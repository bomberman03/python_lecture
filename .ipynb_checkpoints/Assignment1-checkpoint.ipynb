{
 "cells": [
  {
   "cell_type": "markdown",
   "metadata": {},
   "source": [
    "#Assignment1"
   ]
  },
  {
   "cell_type": "markdown",
   "metadata": {
    "collapsed": true
   },
   "source": [
    "⑴ a=\"Hello Python\" 문자열을 Slicing과 연결 연산자 (+)를 사용하여 \"Python Hello\"로 변경하시오.\n",
    "◎[주의] a 변수 자체에 \"Python Hello\" 문자열이 저장되어야 함"
   ]
  },
  {
   "cell_type": "code",
   "execution_count": 4,
   "metadata": {
    "collapsed": false
   },
   "outputs": [
    {
     "name": "stdout",
     "output_type": "stream",
     "text": [
      "Python Hello\n"
     ]
    }
   ],
   "source": [
    "a = \"Hello Python\"\n",
    "a = a[6:] + \" \" + a[:5]\n",
    "print a"
   ]
  },
  {
   "cell_type": "markdown",
   "metadata": {},
   "source": [
    "⑵ b=\"Hello Python World\" 문자열을 Slicing과 연결 연산자 (+)를 사용하여 \"World Python Hello\"로 변경하시오. \n",
    "◎[주의] b 변수 자체에 \"Python Hello\" 문자열이 저장되어야 함"
   ]
  },
  {
   "cell_type": "code",
   "execution_count": 5,
   "metadata": {
    "collapsed": false
   },
   "outputs": [
    {
     "name": "stdout",
     "output_type": "stream",
     "text": [
      "World Python Hello\n"
     ]
    }
   ],
   "source": [
    "b = \"Hello Python World\"\n",
    "b = b[13:] + \" \" +  b[6:12] + \" \" + b[:5]\n",
    "print b"
   ]
  },
  {
   "cell_type": "markdown",
   "metadata": {},
   "source": [
    "⑶ c=\"Hello\"를 \"olleH\"로 변경하시오.\n",
    "◎[주의] c 변수 자체에 \"olleH\" 문자열이 저장되어야 함"
   ]
  },
  {
   "cell_type": "code",
   "execution_count": 3,
   "metadata": {
    "collapsed": false
   },
   "outputs": [
    {
     "name": "stdout",
     "output_type": "stream",
     "text": [
      "olleH\n"
     ]
    }
   ],
   "source": [
    "c = \"Hello\"\n",
    "c = c[len(c)::-1]\n",
    "print c"
   ]
  },
  {
   "cell_type": "markdown",
   "metadata": {},
   "source": [
    "⑷ s=\"python\"에 대해 다음 문제를 풀어보시오."
   ]
  },
  {
   "cell_type": "markdown",
   "metadata": {},
   "source": [
    "① s[0], s[0][0], s[0][0][0]은 각각 어떤 값이 나오는지 확인하고 그 이유를 나름대로 설명해 보시오."
   ]
  },
  {
   "cell_type": "code",
   "execution_count": 7,
   "metadata": {
    "collapsed": false
   },
   "outputs": [
    {
     "name": "stdout",
     "output_type": "stream",
     "text": [
      "p\n",
      "p\n",
      "p\n"
     ]
    }
   ],
   "source": [
    "s = \"python\"\n",
    "print s[0]\n",
    "print s[0][0]\n",
    "print s[0][0][0]"
   ]
  },
  {
   "cell_type": "markdown",
   "metadata": {},
   "source": [
    "문자열은 각 문자의 배열로 저장된다.\n",
    "\n",
    "        0     1     2     3    4     5\n",
    "s = [ 'p' ][ 'y' ][ 't' ][ 'h' ][ 'o' ][ 'n' ]\n",
    "\n",
    "위와 같은 인덱스로 저장된다. \n",
    "\n",
    "1. s[0] 의 값은 문자열의 첫번째 문자 'p'를 가리킨다.\n",
    "\n",
    "2. s[0][0] 로 접근하게 되면 어떻게 되는가? \n",
    "\n",
    "  \n",
    "[ 'p' ][ '?' ][ '?' ][ '?' ]   \n",
    "\n",
    "[ 'y' ][ '?' ][ '?' ][ '?' ]   \n",
    "    \n",
    "[ 'y' ][ '?' ][ '?' ][ '?' ]   \n",
    "   \n",
    "[ 'h' ][ '?' ][ '?' ][ '?' ]   \n",
    "    \n",
    "[ 'o' ][ '?' ][ '?' ][ '?' ]   \n",
    "     \n",
    "[ 'n' ][ '?' ][ '?' ][ '?' ]   \n",
    "     \n",
    "개략적으로 이러한 형태에 대해서 2차원 배열적 접근이라고 할 수 있다.\n",
    "이 때 s[0][0] 에 경우  0번째열의 0번째 원소에 접근하는 것이므로 역시 'p' 가 출력된다.\n",
    "실제로 s[1][0]에 경우 'y' 출력되며, 두번째 첨자가 0 이상을 가지면, 존재하지 않는 영역을\n",
    "참조하므로 에러가 발생한다.\n",
    "\n",
    "3. s[0][0][0] 로 접근하게 되면 어떻게 되는가?\n",
    "\n",
    "[ 'p' ][ '?' ][ '?' ][ '?' ]  ....\n",
    "\n",
    "[ '?' ][ '?' ][ '?' ][ '?' ]   ....\n",
    "\n",
    "[ '?' ][ '?' ][ '?' ][ '?' ]   ....\n",
    "\n",
    "[ '?' ][ '?' ][ '?' ][ '?' ]   ....\n",
    "\n",
    "[ '?' ][ '?' ][ '?' ][ '?' ]   ....\n",
    "\n",
    "  ...     ...    ....    ....     ...\n",
    "     \n",
    "[ 'y' ][ '?' ][ '?' ][ '?' ]  ....\n",
    "\n",
    "[ '?' ][ '?' ][ '?' ][ '?' ]   ....\n",
    "\n",
    "[ '?' ][ '?' ][ '?' ][ '?' ]   ....   \n",
    "\n",
    "[ '?' ][ '?' ][ '?' ][ '?' ]   ....\n",
    "\n",
    "[ '?' ][ '?' ][ '?' ][ '?' ]   ....\n",
    "\n",
    "  ...     ...    ....    ....     ...\n",
    "       \n",
    "[ 't' ][ '?' ][ '?' ][ '?' ]  ....\n",
    "\n",
    "[ '?' ][ '?' ][ '?' ][ '?' ]   ....\n",
    "\n",
    "[ '?' ][ '?' ][ '?' ][ '?' ]   ....  \n",
    "\n",
    "[ '?' ][ '?' ][ '?' ][ '?' ]   ....\n",
    "\n",
    "[ '?' ][ '?' ][ '?' ][ '?' ]   ....\n",
    "\n",
    "  ...     ...    ....    ....     ...\n",
    "      \n",
    "[ 'h' ][ '?' ][ '?' ][ '?' ]  ....\n",
    "\n",
    "[ '?' ][ '?' ][ '?' ][ '?' ]   ....\n",
    "\n",
    "[ '?' ][ '?' ][ '?' ][ '?' ]   ....\n",
    "\n",
    "[ '?' ][ '?' ][ '?' ][ '?' ]   ....\n",
    "\n",
    "[ '?' ][ '?' ][ '?' ][ '?' ]   ....\n",
    "\n",
    "  ...     ...    ....    ....     ...\n",
    "       \n",
    "[ 'o' ][ '?' ][ '?' ][ '?' ]  ....\n",
    "\n",
    "[ '?' ][ '?' ][ '?' ][ '?' ]   ....\n",
    "\n",
    "[ '?' ][ '?' ][ '?' ][ '?' ]   ....  \n",
    "\n",
    "[ '?' ][ '?' ][ '?' ][ '?' ]   ....\n",
    "\n",
    "[ '?' ][ '?' ][ '?' ][ '?' ]   ....\n",
    "\n",
    "  ...     ...    ....    ....     ...\n",
    "       \n",
    "[ 'n' ][ '?' ][ '?' ][ '?' ]  ....\n",
    "\n",
    "[ '?' ][ '?' ][ '?' ][ '?' ]   ....\n",
    "\n",
    "[ '?' ][ '?' ][ '?' ][ '?' ]   ....  \n",
    "\n",
    "[ '?' ][ '?' ][ '?' ][ '?' ]   ....\n",
    "\n",
    "[ '?' ][ '?' ][ '?' ][ '?' ]   ....\n",
    "\n",
    "  ...     ...    ....    ....     ...\n",
    "       \n",
    "이 이상은 어떻게 그려야 할 지 잘 모르겠다 하지만, 개략적으로 이러한 형태의 3차원 배열 접근일 것이다. 이 때, s[0][0][0]은 0번째 layer의 0행 0열의 값이므로 역시 'p'가 출력된다. layer만 변경되면 각 자리의 문자를 제대로 출력하지만 그 이외의 위치를 참조하게 되면 오류가 발생한다."
   ]
  },
  {
   "cell_type": "markdown",
   "metadata": {},
   "source": [
    "② s[-100], s[100]은 값이 나오는지 에러가 나오는지 확인하고 그 결과에 대한 이유를 나름대로 설명해 보시오."
   ]
  },
  {
   "cell_type": "code",
   "execution_count": 14,
   "metadata": {
    "collapsed": false
   },
   "outputs": [
    {
     "ename": "IndexError",
     "evalue": "string index out of range",
     "output_type": "error",
     "traceback": [
      "\u001b[1;31m---------------------------------------------------------------------------\u001b[0m",
      "\u001b[1;31mIndexError\u001b[0m                                Traceback (most recent call last)",
      "\u001b[1;32m<ipython-input-14-bfa82d649a15>\u001b[0m in \u001b[0;36m<module>\u001b[1;34m()\u001b[0m\n\u001b[0;32m      1\u001b[0m \u001b[0ms\u001b[0m\u001b[1;33m=\u001b[0m\u001b[1;34m\"python\"\u001b[0m\u001b[1;33m\u001b[0m\u001b[0m\n\u001b[1;32m----> 2\u001b[1;33m \u001b[1;32mprint\u001b[0m \u001b[0ms\u001b[0m\u001b[1;33m[\u001b[0m\u001b[1;33m-\u001b[0m\u001b[1;36m100\u001b[0m\u001b[1;33m]\u001b[0m\u001b[1;33m\u001b[0m\u001b[0m\n\u001b[0m",
      "\u001b[1;31mIndexError\u001b[0m: string index out of range"
     ]
    }
   ],
   "source": [
    "s=\"python\"\n",
    "print s[-100]"
   ]
  },
  {
   "cell_type": "markdown",
   "metadata": {},
   "source": [
    "파이선에서 음수 첨자연산의 경우 인덱스 탐색을 역으로 하게 된다.\n",
    "\n",
    "s[-1] 의 경우 전체 문자열의 마지막 첨자를 가리키게 된다.\n",
    "\n",
    "정확히 말하면 s[-n] = s[len(s)-n]의 형태가 된다.\n",
    "\n",
    "s 의 경우 len(s) = 6가 되므로 s[-1] = s[6-1] = s[5] = 'n' 이런식으로 접근하는 것이다.\n",
    "하지만 s[-100]의 경우 s[6-100] = s[-95] 가 되고 이런 접근 방식은 허용하지 않는다.\n",
    "\n",
    "무론 재귀적으로 간다면 \n",
    "\n",
    "s[-100] = s[6-100] = s[-94] = s[6-95] = s[90] = ... = s[0] = 'p' 이지만 이런 접근은 아니다."
   ]
  },
  {
   "cell_type": "code",
   "execution_count": 11,
   "metadata": {
    "collapsed": false
   },
   "outputs": [
    {
     "ename": "IndexError",
     "evalue": "string index out of range",
     "output_type": "error",
     "traceback": [
      "\u001b[1;31m---------------------------------------------------------------------------\u001b[0m",
      "\u001b[1;31mIndexError\u001b[0m                                Traceback (most recent call last)",
      "\u001b[1;32m<ipython-input-11-1f355dc5cc0d>\u001b[0m in \u001b[0;36m<module>\u001b[1;34m()\u001b[0m\n\u001b[0;32m      1\u001b[0m \u001b[0ms\u001b[0m \u001b[1;33m=\u001b[0m \u001b[1;34m\"python\"\u001b[0m\u001b[1;33m\u001b[0m\u001b[0m\n\u001b[1;32m----> 2\u001b[1;33m \u001b[1;32mprint\u001b[0m \u001b[0ms\u001b[0m\u001b[1;33m[\u001b[0m\u001b[1;36m100\u001b[0m\u001b[1;33m]\u001b[0m\u001b[1;33m\u001b[0m\u001b[0m\n\u001b[0m",
      "\u001b[1;31mIndexError\u001b[0m: string index out of range"
     ]
    }
   ],
   "source": [
    "s = \"python\"\n",
    "print s[100]"
   ]
  },
  {
   "cell_type": "markdown",
   "metadata": {},
   "source": [
    "위 경우는 단순하다. \"python\"의 길이는 5이지만 100은 이를 상회하기 때문에 에러가 발생한다."
   ]
  },
  {
   "cell_type": "markdown",
   "metadata": {},
   "source": [
    "④ s[1:-1]의 결과를 확인하고 그 결과에 대한 이유를 정확하게 설명하시오."
   ]
  },
  {
   "cell_type": "code",
   "execution_count": 16,
   "metadata": {
    "collapsed": false
   },
   "outputs": [
    {
     "name": "stdout",
     "output_type": "stream",
     "text": [
      "ytho\n"
     ]
    }
   ],
   "source": [
    "s = \"python\"\n",
    "print s[1:-1]"
   ]
  },
  {
   "cell_type": "markdown",
   "metadata": {},
   "source": [
    "s[1:-1] 라는 구문을 해석해보면 s 라는 문자열을 s[from :  to] 라는 구문이 된다.\n",
    "\n",
    "s[from : to] 는 s[from] 부터 ... s[to-1] 까지의 모든 문자를 잇는 문자열이 된다.\n",
    "\n",
    "s[1:-1]은 s[1] ~ s[-1-1] 즉, s[1] ~ s[(6-1) - 1] = s[4] 까지의 모든 문자를 잇는 문자열이고 \n",
    "\n",
    "이는 \"ytho\" 가 된다."
   ]
  },
  {
   "cell_type": "code",
   "execution_count": 4,
   "metadata": {
    "collapsed": false
   },
   "outputs": [
    {
     "name": "stdout",
     "output_type": "stream",
     "text": [
      "\n"
     ]
    }
   ],
   "source": [
    "s = \"python\"\n",
    "print s[3:-3]"
   ]
  },
  {
   "cell_type": "markdown",
   "metadata": {},
   "source": [
    "위와 같은 설명으로 생각한다면\n",
    "\n",
    "s[3:-3] 은 s[3] 부터 s[-3-1]  까지의 즉, s[3] ~ s[(6-3)-1] -> s[3] ~ s[2] 이다.\n",
    "\n",
    "from  보다 to 의 첨자가 작으므로, 출력으로 나오는 문자열의 길이는 0이된다."
   ]
  },
  {
   "cell_type": "markdown",
   "metadata": {},
   "source": [
    "⑸ for문을 활용하여 1부터 100사이의 홀수를 출력하시오."
   ]
  },
  {
   "cell_type": "code",
   "execution_count": 6,
   "metadata": {
    "collapsed": false
   },
   "outputs": [
    {
     "name": "stdout",
     "output_type": "stream",
     "text": [
      "1\n",
      "3\n",
      "5\n",
      "7\n",
      "9\n",
      "11\n",
      "13\n",
      "15\n",
      "17\n",
      "19\n",
      "21\n",
      "23\n",
      "25\n",
      "27\n",
      "29\n",
      "31\n",
      "33\n",
      "35\n",
      "37\n",
      "39\n",
      "41\n",
      "43\n",
      "45\n",
      "47\n",
      "49\n",
      "51\n",
      "53\n",
      "55\n",
      "57\n",
      "59\n",
      "61\n",
      "63\n",
      "65\n",
      "67\n",
      "69\n",
      "71\n",
      "73\n",
      "75\n",
      "77\n",
      "79\n",
      "81\n",
      "83\n",
      "85\n",
      "87\n",
      "89\n",
      "91\n",
      "93\n",
      "95\n",
      "97\n",
      "99\n"
     ]
    }
   ],
   "source": [
    "for i in range(1,101,2):\n",
    "    print i"
   ]
  },
  {
   "cell_type": "markdown",
   "metadata": {},
   "source": [
    "⑹ while문을 활용하여 1부터 100사이의 짝수의 합을 계산하여 출력하시오."
   ]
  },
  {
   "cell_type": "code",
   "execution_count": 2,
   "metadata": {
    "collapsed": false
   },
   "outputs": [
    {
     "name": "stdout",
     "output_type": "stream",
     "text": [
      "2550\n"
     ]
    }
   ],
   "source": [
    "sum = 0\n",
    "i = 2\n",
    "while( i < 101 ):\n",
    "    sum += i\n",
    "    i += 2\n",
    "print sum"
   ]
  },
  {
   "cell_type": "markdown",
   "metadata": {},
   "source": [
    "⑺ 사용자로 부터 임의의 정수를 입력받고, 해당 숫자를 역순으로 출력하는 프로그램을 작성하시오."
   ]
  },
  {
   "cell_type": "code",
   "execution_count": 8,
   "metadata": {
    "collapsed": false
   },
   "outputs": [
    {
     "name": "stdout",
     "output_type": "stream",
     "text": [
      "Please Enter Decimal Number 3125\n",
      "숫자의 역순은 5213 입니다.\n"
     ]
    }
   ],
   "source": [
    "str = raw_input(\"Please Enter Decimal Number \")\n",
    "print \"숫자의 역순은 \" + str[len(str)::-1] + \" 입니다.\""
   ]
  },
  {
   "cell_type": "markdown",
   "metadata": {},
   "source": [
    "⑻ 사용자로 부터 정수를 입력받아서 1부터 그 사이에 존재하는 소수 (Prime number)를 출력하는 파이썬 프로그램을 작성하시오."
   ]
  },
  {
   "cell_type": "code",
   "execution_count": 11,
   "metadata": {
    "collapsed": false
   },
   "outputs": [
    {
     "name": "stdout",
     "output_type": "stream",
     "text": [
      "End : 135\n",
      "1\n",
      "2\n",
      "3\n",
      "5\n",
      "7\n",
      "11\n",
      "13\n",
      "17\n",
      "19\n",
      "23\n",
      "29\n",
      "31\n",
      "37\n",
      "41\n",
      "43\n",
      "47\n",
      "53\n",
      "59\n",
      "61\n",
      "67\n",
      "71\n",
      "73\n",
      "79\n",
      "83\n",
      "89\n",
      "97\n",
      "101\n",
      "103\n",
      "107\n",
      "109\n",
      "113\n",
      "127\n",
      "131\n"
     ]
    }
   ],
   "source": [
    "import math\n",
    "\n",
    "def isPrime(num):\n",
    "    for i in range(2, int(math.sqrt(num) + 1)):\n",
    "        if(num % i == 0):\n",
    "            return False\n",
    "    return True\n",
    "\n",
    "num = raw_input(\"End : \")\n",
    "for i in range(1,int(num)+1):\n",
    "    if(isPrime(i)):\n",
    "        print i"
   ]
  },
  {
   "cell_type": "markdown",
   "metadata": {},
   "source": [
    "10보다 작은 자연수 중에서 3 또는 5의 배수는 3, 5, 6, 9 이고, 이것을 모두 더하면 23입니다.\n",
    "\n",
    "1000보다 작은 자연수 중에서 3 또는 5의 배수를 모두 더하면 얼마일까요?"
   ]
  },
  {
   "cell_type": "code",
   "execution_count": 16,
   "metadata": {
    "collapsed": false
   },
   "outputs": [
    {
     "name": "stdout",
     "output_type": "stream",
     "text": [
      "233168\n"
     ]
    }
   ],
   "source": [
    "sum = 0\n",
    "for i in range(0,1000):\n",
    "    if(i%3==0 or i%5==0):\n",
    "        sum += i\n",
    "print sum"
   ]
  },
  {
   "cell_type": "markdown",
   "metadata": {},
   "source": [
    "피보나치 수열의 각 항은 바로 앞의 항 두 개를 더한 것이 됩니다. 1과 2로 시작하는 경우 이 수열은 아래와 같습니다.\n",
    "\n",
    "1, 2, 3, 5, 8, 13, 21, 34, 55, 89, ...\n",
    "짝수이면서 4백만 이하인 모든 항을 더하면 얼마가 됩니까?"
   ]
  },
  {
   "cell_type": "code",
   "execution_count": 21,
   "metadata": {
    "collapsed": false
   },
   "outputs": [
    {
     "name": "stdout",
     "output_type": "stream",
     "text": [
      "4613732\n"
     ]
    }
   ],
   "source": [
    "sum = 0\n",
    "_prev = 1\n",
    "_cur = 2\n",
    "while( _prev < 4000000 ):\n",
    "    if(_prev % 2 == 0):\n",
    "        sum += _prev\n",
    "    _next = _prev + _cur\n",
    "    _prev = _cur\n",
    "    _cur = _next\n",
    "print sum"
   ]
  },
  {
   "cell_type": "markdown",
   "metadata": {},
   "source": [
    "어떤 수를 소수의 곱으로만 나타내는 것을 소인수분해라 하고, 이 소수들을 그 수의 소인수라고 합니다.\n",
    "예를 들면 13195의 소인수는 5, 7, 13, 29 입니다.\n",
    "\n",
    "600851475143의 소인수 중에서 가장 큰 수를 구하세요."
   ]
  },
  {
   "cell_type": "code",
   "execution_count": 2,
   "metadata": {
    "collapsed": false
   },
   "outputs": [
    {
     "name": "stdout",
     "output_type": "stream",
     "text": [
      "6857\n"
     ]
    }
   ],
   "source": [
    "num = 600851475143\n",
    "div = 2\n",
    "while(num > 1):\n",
    "    if(num % div == 0):\n",
    "        num /= div\n",
    "        continue\n",
    "    div += 1\n",
    "print div"
   ]
  }
 ],
 "metadata": {
  "kernelspec": {
   "display_name": "Python 2",
   "language": "python",
   "name": "python2"
  },
  "language_info": {
   "codemirror_mode": {
    "name": "ipython",
    "version": 2
   },
   "file_extension": ".py",
   "mimetype": "text/x-python",
   "name": "python",
   "nbconvert_exporter": "python",
   "pygments_lexer": "ipython2",
   "version": "2.7.9"
  }
 },
 "nbformat": 4,
 "nbformat_minor": 0
}
