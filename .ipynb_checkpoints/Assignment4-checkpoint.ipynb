{
 "cells": [
  {
   "cell_type": "markdown",
   "metadata": {},
   "source": [
    "## 문제 1-1"
   ]
  },
  {
   "cell_type": "code",
   "execution_count": 4,
   "metadata": {
    "collapsed": false
   },
   "outputs": [
    {
     "name": "stdout",
     "output_type": "stream",
     "text": [
      "cat dog\n",
      "dog pig\n",
      "ham bird\n",
      "pig ham\n"
     ]
    }
   ],
   "source": [
    "f = file('s.txt', 'r')\n",
    "s = f.read()\n",
    "f.close()\n",
    "\n",
    "s = s.split('\\n')\n",
    "s.sort()\n",
    "s = \"\\n\".join(s)\n",
    "\n",
    "f = file('s1.txt', 'w')\n",
    "f.write(s)\n",
    "f.close()\n",
    "\n",
    "print s"
   ]
  },
  {
   "cell_type": "markdown",
   "metadata": {},
   "source": [
    "## 문제 1-2"
   ]
  },
  {
   "cell_type": "code",
   "execution_count": 5,
   "metadata": {
    "collapsed": false
   },
   "outputs": [
    {
     "name": "stdout",
     "output_type": "stream",
     "text": [
      "ham bird\n",
      "cat dog\n",
      "pig ham\n",
      "dog pig\n"
     ]
    }
   ],
   "source": [
    "def my_compare(x, y):\n",
    "    return cmp(x.split()[1], y.split()[1])\n",
    "\n",
    "f = file('s.txt', 'r')\n",
    "s = f.read()\n",
    "f.close()\n",
    "\n",
    "s = s.split('\\n')\n",
    "s.sort(my_compare)\n",
    "s = \"\\n\".join(s)\n",
    "\n",
    "f = file('s1.txt', 'w')\n",
    "f.write(s)\n",
    "f.close()\n",
    "\n",
    "print s"
   ]
  },
  {
   "cell_type": "markdown",
   "metadata": {},
   "source": [
    "## 문제 1-3"
   ]
  },
  {
   "cell_type": "code",
   "execution_count": 15,
   "metadata": {
    "collapsed": false
   },
   "outputs": [],
   "source": [
    "f = file('s.txt', 'r')\n",
    "s = f.read()\n",
    "f.close()\n",
    "s = s.split()\n",
    "for i in range(2, len(s), 3):\n",
    "    s[i] = s[i] + \"\\n\"\n",
    "s = \" \".join(s)\n",
    "s = s.replace(\"\\n \", \"\\n\")\n",
    "f = file('s3.txt', 'w')\n",
    "f.write(s)\n",
    "f.close()\n",
    "\n",
    "print s"
   ]
  },
  {
   "cell_type": "markdown",
   "metadata": {},
   "source": [
    "## 문제 2번"
   ]
  },
  {
   "cell_type": "code",
   "execution_count": 1,
   "metadata": {
    "collapsed": false
   },
   "outputs": [
    {
     "name": "stdout",
     "output_type": "stream",
     "text": [
      "Welcome to Out Service\n",
      "1. Sign Up\n",
      "2. Sign In\n",
      "3. Quit\n",
      "1\n",
      "this is register menu\n",
      "pathFinder\n",
      "Sorry, the entered ID is already used.\n",
      "Welcome to Out Service\n",
      "1. Sign Up\n",
      "2. Sign In\n",
      "3. Quit\n",
      "1\n",
      "this is register menu\n",
      "finder\n",
      "abcd\n",
      "정재현\n",
      "한국기술교육대\n",
      "Welcome to Out Service\n",
      "1. Sign Up\n",
      "2. Sign In\n",
      "3. Quit\n",
      "2\n",
      "this is login menu\n",
      "fin\n",
      "Sorry, you are not a registered member.\n",
      "finder\n",
      "abc\n",
      "Sorry, the entered password is not correct.\n",
      "abcd\n",
      "Hello[정재현]!\n",
      "Welcome to Out Service\n",
      "1. Sign Up\n",
      "2. Sign In\n",
      "3. Quit\n",
      "3\n"
     ]
    }
   ],
   "source": [
    "import sha\n",
    "\n",
    "def intro():\n",
    "    cmd = 0\n",
    "    while cmd != \"3\":\n",
    "        print \"Welcome to Out Service\"\n",
    "        print \"1. Sign Up\"\n",
    "        print \"2. Sign In\"\n",
    "        print \"3. Quit\"\n",
    "        cmd = raw_input()\n",
    "        if cmd == \"1\":\n",
    "            print \"this is register menu\"\n",
    "            register()\n",
    "        elif cmd == \"2\":\n",
    "            print \"this is login menu\"\n",
    "            login()\n",
    "    \n",
    "def parse_user(id, detail):\n",
    "    user = {}\n",
    "    user['id'] = id;\n",
    "    keys = [\"password\",\"name\",\"school\"]\n",
    "    detail = detail.replace(\"[\", \"\")\n",
    "    detail = detail.replace(\"]\", \"\")\n",
    "    detail = detail.split(\",\")\n",
    "    idx = 0\n",
    "    for key in keys:\n",
    "        user[key] = detail[idx]\n",
    "        idx = idx + 1\n",
    "    return user\n",
    "\n",
    "def check_dup(id):\n",
    "    f = file('access.txt')\n",
    "    s = f.read()\n",
    "    f.close()\n",
    "    s = s.split(\"\\n\")\n",
    "    usr = None\n",
    "    for u in s:\n",
    "        u = u.split(\":\")\n",
    "        if u[0] == id:\n",
    "            usr = parse_user(u[0], u[1])\n",
    "            break\n",
    "    return usr\n",
    "\n",
    "def register():\n",
    "    id = raw_input()\n",
    "    usr = check_dup(id)\n",
    "    if usr is not None:\n",
    "        print \"Sorry, the entered ID is already used.\"\n",
    "    else:\n",
    "        password = raw_input()\n",
    "        password = sha.new(password).hexdigest()\n",
    "        name = raw_input()\n",
    "        school = raw_input()\n",
    "        s = id + \":\" + \"[\" + password + \"],\" + \"[\" + name + \"],\" + \"[\" + school + \"]\\n\"\n",
    "        f = file('access.txt','a')\n",
    "        f.write(s)\n",
    "        f.close()\n",
    "\n",
    "def login():\n",
    "    id = raw_input()\n",
    "    usr = check_dup(id)\n",
    "    while usr is None:\n",
    "        print \"Sorry, you are not a registered member.\"\n",
    "        id = raw_input()\n",
    "        usr = check_dup(id)\n",
    "\n",
    "    password = raw_input()\n",
    "    password = sha.new(password).hexdigest()\n",
    "    while usr['password'] != password:\n",
    "        print \"Sorry, the entered password is not correct.\"\n",
    "        password = raw_input()\n",
    "        password = sha.new(password).hexdigest()\n",
    "\n",
    "    print \"Hello\" + \"[\" + usr['name'].decode('cp949') + \"]!\"\n",
    "\n",
    "intro()"
   ]
  },
  {
   "cell_type": "markdown",
   "metadata": {},
   "source": [
    "## 문제 3번"
   ]
  },
  {
   "cell_type": "code",
   "execution_count": 24,
   "metadata": {
    "collapsed": false
   },
   "outputs": [
    {
     "name": "stdout",
     "output_type": "stream",
     "text": [
      "[0.0, 0.1, 0.2, 0.3, 0.4, 0.5]\n",
      "[1.0, 1.1, 1.2, 1.3, 1.4, 1.5, 1.6, 1.7, 1.8, 1.9]\n",
      "[2.2, 2.7, 3.2, 3.7]\n"
     ]
    }
   ],
   "source": [
    "import math\n",
    "def frange(*args):\n",
    "    res_list = []\n",
    "    \n",
    "    l = len(args)\n",
    "    \n",
    "    start = 0.0\n",
    "    stop = 0.0\n",
    "    step = 0.1\n",
    "    \n",
    "    if l == 1:\n",
    "        stop = args[0]\n",
    "    elif l == 2:\n",
    "        start = args[0]\n",
    "        stop = args[1]\n",
    "    elif l == 3:\n",
    "        start = args[0]\n",
    "        stop = args[1]\n",
    "        step = args[2]\n",
    "        \n",
    "    round_len = 1\n",
    "\n",
    "    if '.' in str(step):\n",
    "        tmp_len = len(str(step).split('.')[1])\n",
    "        if round_len < tmp_len:\n",
    "            round_len = tmp_len\n",
    "    if '.' in str(start):\n",
    "        tmp_len = len(str(start).split('.')[1])\n",
    "        if round_len < tmp_len:\n",
    "            round_len = tmp_len\n",
    "    if '.' in str(stop):\n",
    "        tmp_len = len(str(stop).split('.')[1])\n",
    "        if round_len < tmp_len:\n",
    "            round_len = tmp_len\n",
    "            \n",
    "    while start <= stop:\n",
    "        res_list.append(round(start, round_len))\n",
    "        start += step\n",
    "    return res_list\n",
    "\n",
    "print frange(0.5)\n",
    "print frange(1.0, 2.0)\n",
    "print frange(2.2, 4.0, 0.5)"
   ]
  },
  {
   "cell_type": "markdown",
   "metadata": {},
   "source": [
    "## 문제 4번"
   ]
  },
  {
   "cell_type": "code",
   "execution_count": 25,
   "metadata": {
    "collapsed": false
   },
   "outputs": [
    {
     "name": "stdout",
     "output_type": "stream",
     "text": [
      "0\n",
      "3\n",
      "15\n",
      "5\n"
     ]
    }
   ],
   "source": [
    "def my_sum(*args):\n",
    "    return sum(args) \n",
    "print my_sum()\n",
    "print my_sum(1,2)\n",
    "print my_sum(1,2,3,4,5)\n",
    "print my_sum(1,5,7,2,-10)"
   ]
  },
  {
   "cell_type": "markdown",
   "metadata": {},
   "source": [
    "## 문제 5번"
   ]
  },
  {
   "cell_type": "code",
   "execution_count": 33,
   "metadata": {
    "collapsed": false
   },
   "outputs": [
    {
     "name": "stdout",
     "output_type": "stream",
     "text": [
      "ASAP\n"
     ]
    }
   ],
   "source": [
    "def myInitial(s):\n",
    "    pass\n",
    "s = \"as soon as possible\"\n",
    "s = s.split()\n",
    "m = map(lambda x : x[0].upper(), s)\n",
    "print ''.join(m)"
   ]
  },
  {
   "cell_type": "markdown",
   "metadata": {},
   "source": [
    "## 문제 6번"
   ]
  },
  {
   "cell_type": "code",
   "execution_count": 36,
   "metadata": {
    "collapsed": false
   },
   "outputs": [
    {
     "name": "stdout",
     "output_type": "stream",
     "text": [
      "93326215443944152681699238856266700490715968264381621468592963895217599993229915608941463976156518286253697920827223758251185210916864000000000000000000000000\n"
     ]
    }
   ],
   "source": [
    "def myfact(n):\n",
    "    if n <= 1:\n",
    "        return 1\n",
    "    else:\n",
    "        return n * myfact(n-1)\n",
    "print myfact(100)        "
   ]
  },
  {
   "cell_type": "markdown",
   "metadata": {},
   "source": [
    "## 문제 7번\n",
    "import string 과 from string import * 의 차이점을 설명하시오."
   ]
  },
  {
   "cell_type": "markdown",
   "metadata": {},
   "source": [
    "import string의 경우 namespace string이 그대로 유지된다 그러므로 string 모듈의 punctuation을 사용하고자 한다면 string.punctuation 라고 사용해야 한다.\n",
    "\n",
    "from string import * 에 경우 불러들인 각각의 namespace로 호출된다. 위와 같은 경우 string. 없이 punctuation만 사용하면된다."
   ]
  },
  {
   "cell_type": "code",
   "execution_count": 7,
   "metadata": {
    "collapsed": false
   },
   "outputs": [
    {
     "name": "stdout",
     "output_type": "stream",
     "text": [
      "!\"#$%&'()*+,-./:;<=>?@[\\]^_`{|}~\n"
     ]
    }
   ],
   "source": [
    "import string\n",
    "print string.punctuation"
   ]
  },
  {
   "cell_type": "code",
   "execution_count": 8,
   "metadata": {
    "collapsed": false
   },
   "outputs": [
    {
     "name": "stdout",
     "output_type": "stream",
     "text": [
      "!\"#$%&'()*+,-./:;<=>?@[\\]^_`{|}~\n"
     ]
    }
   ],
   "source": [
    "from string import *\n",
    "print punctuation"
   ]
  },
  {
   "cell_type": "markdown",
   "metadata": {},
   "source": [
    "##프로젝트 오일러 문제 10"
   ]
  },
  {
   "cell_type": "code",
   "execution_count": 1,
   "metadata": {
    "collapsed": false
   },
   "outputs": [
    {
     "name": "stdout",
     "output_type": "stream",
     "text": [
      "142913828922\n"
     ]
    }
   ],
   "source": [
    "def eratos_arr(size):\n",
    "    eratos = [True] * (size + 1)\n",
    "    for i in range(2, int(size / 2)):\n",
    "        if eratos[i] is False:\n",
    "            continue\n",
    "        mul = 2\n",
    "        num = i * mul\n",
    "        while num <= size:\n",
    "            eratos[num] = False\n",
    "            mul = mul + 1\n",
    "            num = i * mul\n",
    "    return eratos\n",
    "\n",
    "size = 2000000\n",
    "prime_sum = 0\n",
    "eratos = eratos_arr(size)\n",
    "for i in range(2, size+1):\n",
    "    if eratos[i]:\n",
    "        prime_sum += i\n",
    "print prime_sum"
   ]
  },
  {
   "cell_type": "markdown",
   "metadata": {},
   "source": [
    "##프로젝트 오일러 문제 11"
   ]
  },
  {
   "cell_type": "code",
   "execution_count": 2,
   "metadata": {
    "collapsed": false
   },
   "outputs": [
    {
     "name": "stdout",
     "output_type": "stream",
     "text": [
      "70600674\n"
     ]
    }
   ],
   "source": [
    "input_str = \"\"\"08 02 22 97 38 15 00 40 00 75 04 05 07 78 52 12 50 77 91 08\n",
    "49 49 99 40 17 81 18 57 60 87 17 40 98 43 69 48 04 56 62 00\n",
    "81 49 31 73 55 79 14 29 93 71 40 67 53 88 30 03 49 13 36 65\n",
    "52 70 95 23 04 60 11 42 69 24 68 56 01 32 56 71 37 02 36 91\n",
    "22 31 16 71 51 67 63 89 41 92 36 54 22 40 40 28 66 33 13 80\n",
    "24 47 32 60 99 03 45 02 44 75 33 53 78 36 84 20 35 17 12 50\n",
    "32 98 81 28 64 23 67 10 26 38 40 67 59 54 70 66 18 38 64 70\n",
    "67 26 20 68 02 62 12 20 95 63 94 39 63 08 40 91 66 49 94 21\n",
    "24 55 58 05 66 73 99 26 97 17 78 78 96 83 14 88 34 89 63 72\n",
    "21 36 23 09 75 00 76 44 20 45 35 14 00 61 33 97 34 31 33 95\n",
    "78 17 53 28 22 75 31 67 15 94 03 80 04 62 16 14 09 53 56 92\n",
    "16 39 05 42 96 35 31 47 55 58 88 24 00 17 54 24 36 29 85 57\n",
    "86 56 00 48 35 71 89 07 05 44 44 37 44 60 21 58 51 54 17 58\n",
    "19 80 81 68 05 94 47 69 28 73 92 13 86 52 17 77 04 89 55 40\n",
    "04 52 08 83 97 35 99 16 07 97 57 32 16 26 26 79 33 27 98 66\n",
    "88 36 68 87 57 62 20 72 03 46 33 67 46 55 12 32 63 93 53 69\n",
    "04 42 16 73 38 25 39 11 24 94 72 18 08 46 29 32 40 62 76 36\n",
    "20 69 36 41 72 30 23 88 34 62 99 69 82 67 59 85 74 04 36 16\n",
    "20 73 35 29 78 31 90 01 74 31 49 71 48 86 81 16 23 57 05 54\n",
    "01 70 54 71 83 51 54 69 16 92 33 48 61 43 52 01 89 19 67 48\"\"\"\n",
    "\n",
    "arr = input_str.split(\"\\n\")\n",
    "res_arr = []\n",
    "for ele in arr:\n",
    "    res_arr.append(ele.split())\n",
    "\n",
    "def sumHorizon(arr, i, j):\n",
    "    tmp_sum = 1\n",
    "    row = i\n",
    "    for col in range(j, j+4):\n",
    "        tmp_sum *= int(arr[row][col])\n",
    "    return tmp_sum\n",
    "\n",
    "def sumVertical(arr, i, j):\n",
    "    tmp_sum = 1\n",
    "    col = j\n",
    "    for row in range(i, i+4):\n",
    "        tmp_sum *= int(arr[row][col])\n",
    "    return tmp_sum\n",
    "\n",
    "def sumDiagonal(arr,  i, j):\n",
    "    tmp_sum = 1\n",
    "    col = j\n",
    "    for row in range(i, i+4):\n",
    "        tmp_sum *= int(arr[row][col])\n",
    "        col = col + 1       \n",
    "    return tmp_sum\n",
    "    \n",
    "def sumExDiagonal(arr, i, j):\n",
    "    tmp_sum = 1\n",
    "    col = j\n",
    "    for row in range(i, i+4):\n",
    "        tmp_sum *= int(arr[row][col])\n",
    "        col = col - 1       \n",
    "    return tmp_sum\n",
    "\n",
    "max_num = 0\n",
    "for i in range(0, len(res_arr)):\n",
    "    for j in range(0, len(res_arr[i])):\n",
    "        hori = 0\n",
    "        vert = 0\n",
    "        diago= 0\n",
    "        exdiago = 0\n",
    "        if j <= len(res_arr[i]) - 4:\n",
    "            hori = sumHorizon(res_arr, i, j)\n",
    "        if i <= len(res_arr) - 4:\n",
    "            vert = sumVertical(res_arr, i, j)\n",
    "        if j <= len(res_arr[i]) - 4 and i <= len(res_arr) - 4: \n",
    "            diago = sumDiagonal(res_arr, i, j)\n",
    "        if j >= 3 and i <= len(res_arr) - 4: \n",
    "            exdiago = sumExDiagonal(res_arr, i, j)\n",
    "        max_num = max(max_num, max(max(exdiago,diago), max(hori, vert)))\n",
    "\n",
    "print max_num"
   ]
  },
  {
   "cell_type": "markdown",
   "metadata": {},
   "source": [
    "##프로젝트 오일러 문제 12"
   ]
  },
  {
   "cell_type": "code",
   "execution_count": 1,
   "metadata": {
    "collapsed": false
   },
   "outputs": [
    {
     "name": "stdout",
     "output_type": "stream",
     "text": [
      "76576500\n"
     ]
    }
   ],
   "source": [
    "def primeCount(num):\n",
    "    div = 2\n",
    "    mul_sum = 1\n",
    "    cnt = 0\n",
    "    while num > 1:\n",
    "        if num % div == 0:\n",
    "            cnt += 1\n",
    "            num /= div\n",
    "        else:\n",
    "            div += 1\n",
    "            mul_sum *= ( cnt + 1 )\n",
    "            cnt = 0\n",
    "    mul_sum *= (cnt + 1)\n",
    "    return mul_sum    \n",
    "\n",
    "sum_num = 1\n",
    "add_num = 2\n",
    "mul_sum = primeCount(sum_num)\n",
    "while mul_sum < 500:\n",
    "    sum_num += add_num\n",
    "    add_num += 1\n",
    "    mul_sum = primeCount(sum_num)\n",
    "print sum_num"
   ]
  },
  {
   "cell_type": "markdown",
   "metadata": {},
   "source": [
    "## 프로젝트 오일러 문제 13"
   ]
  },
  {
   "cell_type": "code",
   "execution_count": 2,
   "metadata": {
    "collapsed": false
   },
   "outputs": [
    {
     "name": "stdout",
     "output_type": "stream",
     "text": [
      "5537376230\n"
     ]
    }
   ],
   "source": [
    "input_str = \"\"\"37107287533902102798797998220837590246510135740250\n",
    "46376937677490009712648124896970078050417018260538\n",
    "74324986199524741059474233309513058123726617309629\n",
    "91942213363574161572522430563301811072406154908250\n",
    "23067588207539346171171980310421047513778063246676\n",
    "89261670696623633820136378418383684178734361726757\n",
    "28112879812849979408065481931592621691275889832738\n",
    "44274228917432520321923589422876796487670272189318\n",
    "47451445736001306439091167216856844588711603153276\n",
    "70386486105843025439939619828917593665686757934951\n",
    "62176457141856560629502157223196586755079324193331\n",
    "64906352462741904929101432445813822663347944758178\n",
    "92575867718337217661963751590579239728245598838407\n",
    "58203565325359399008402633568948830189458628227828\n",
    "80181199384826282014278194139940567587151170094390\n",
    "35398664372827112653829987240784473053190104293586\n",
    "86515506006295864861532075273371959191420517255829\n",
    "71693888707715466499115593487603532921714970056938\n",
    "54370070576826684624621495650076471787294438377604\n",
    "53282654108756828443191190634694037855217779295145\n",
    "36123272525000296071075082563815656710885258350721\n",
    "45876576172410976447339110607218265236877223636045\n",
    "17423706905851860660448207621209813287860733969412\n",
    "81142660418086830619328460811191061556940512689692\n",
    "51934325451728388641918047049293215058642563049483\n",
    "62467221648435076201727918039944693004732956340691\n",
    "15732444386908125794514089057706229429197107928209\n",
    "55037687525678773091862540744969844508330393682126\n",
    "18336384825330154686196124348767681297534375946515\n",
    "80386287592878490201521685554828717201219257766954\n",
    "78182833757993103614740356856449095527097864797581\n",
    "16726320100436897842553539920931837441497806860984\n",
    "48403098129077791799088218795327364475675590848030\n",
    "87086987551392711854517078544161852424320693150332\n",
    "59959406895756536782107074926966537676326235447210\n",
    "69793950679652694742597709739166693763042633987085\n",
    "41052684708299085211399427365734116182760315001271\n",
    "65378607361501080857009149939512557028198746004375\n",
    "35829035317434717326932123578154982629742552737307\n",
    "94953759765105305946966067683156574377167401875275\n",
    "88902802571733229619176668713819931811048770190271\n",
    "25267680276078003013678680992525463401061632866526\n",
    "36270218540497705585629946580636237993140746255962\n",
    "24074486908231174977792365466257246923322810917141\n",
    "91430288197103288597806669760892938638285025333403\n",
    "34413065578016127815921815005561868836468420090470\n",
    "23053081172816430487623791969842487255036638784583\n",
    "11487696932154902810424020138335124462181441773470\n",
    "63783299490636259666498587618221225225512486764533\n",
    "67720186971698544312419572409913959008952310058822\n",
    "95548255300263520781532296796249481641953868218774\n",
    "76085327132285723110424803456124867697064507995236\n",
    "37774242535411291684276865538926205024910326572967\n",
    "23701913275725675285653248258265463092207058596522\n",
    "29798860272258331913126375147341994889534765745501\n",
    "18495701454879288984856827726077713721403798879715\n",
    "38298203783031473527721580348144513491373226651381\n",
    "34829543829199918180278916522431027392251122869539\n",
    "40957953066405232632538044100059654939159879593635\n",
    "29746152185502371307642255121183693803580388584903\n",
    "41698116222072977186158236678424689157993532961922\n",
    "62467957194401269043877107275048102390895523597457\n",
    "23189706772547915061505504953922979530901129967519\n",
    "86188088225875314529584099251203829009407770775672\n",
    "11306739708304724483816533873502340845647058077308\n",
    "82959174767140363198008187129011875491310547126581\n",
    "97623331044818386269515456334926366572897563400500\n",
    "42846280183517070527831839425882145521227251250327\n",
    "55121603546981200581762165212827652751691296897789\n",
    "32238195734329339946437501907836945765883352399886\n",
    "75506164965184775180738168837861091527357929701337\n",
    "62177842752192623401942399639168044983993173312731\n",
    "32924185707147349566916674687634660915035914677504\n",
    "99518671430235219628894890102423325116913619626622\n",
    "73267460800591547471830798392868535206946944540724\n",
    "76841822524674417161514036427982273348055556214818\n",
    "97142617910342598647204516893989422179826088076852\n",
    "87783646182799346313767754307809363333018982642090\n",
    "10848802521674670883215120185883543223812876952786\n",
    "71329612474782464538636993009049310363619763878039\n",
    "62184073572399794223406235393808339651327408011116\n",
    "66627891981488087797941876876144230030984490851411\n",
    "60661826293682836764744779239180335110989069790714\n",
    "85786944089552990653640447425576083659976645795096\n",
    "66024396409905389607120198219976047599490197230297\n",
    "64913982680032973156037120041377903785566085089252\n",
    "16730939319872750275468906903707539413042652315011\n",
    "94809377245048795150954100921645863754710598436791\n",
    "78639167021187492431995700641917969777599028300699\n",
    "15368713711936614952811305876380278410754449733078\n",
    "40789923115535562561142322423255033685442488917353\n",
    "44889911501440648020369068063960672322193204149535\n",
    "41503128880339536053299340368006977710650566631954\n",
    "81234880673210146739058568557934581403627822703280\n",
    "82616570773948327592232845941706525094512325230608\n",
    "22918802058777319719839450180888072429661980811197\n",
    "77158542502016545090413245809786882778948721859617\n",
    "72107838435069186155435662884062257473692284509516\n",
    "20849603980134001723930671666823555245252804609722\n",
    "53503534226472524250874054075591789781264330331690\"\"\"\n",
    "l = input_str.split(\"\\n\")\n",
    "sum_num = 0\n",
    "for e in l:\n",
    "    sum_num += int(e)\n",
    "print str(sum_num)[:10]"
   ]
  },
  {
   "cell_type": "markdown",
   "metadata": {},
   "source": [
    "##프로젝트 오일러 문제 14"
   ]
  },
  {
   "cell_type": "code",
   "execution_count": 3,
   "metadata": {
    "collapsed": false
   },
   "outputs": [
    {
     "name": "stdout",
     "output_type": "stream",
     "text": [
      "837799\n"
     ]
    }
   ],
   "source": [
    "def hailstone(num, cache_table):\n",
    "    cnt = 0\n",
    "    while num != 1:\n",
    "        if num < len(cache_table):\n",
    "            if cache_table[num] != 0:\n",
    "                cnt += cache_table[num]\n",
    "                break\n",
    "        if num % 2 == 0:\n",
    "            num = num / 2\n",
    "        else:\n",
    "            num = 3 * num + 1\n",
    "        cnt += 1\n",
    "    return cnt\n",
    "\n",
    "max_num = 1000001\n",
    "cache_table = [0] * max_num\n",
    "res_cnt = 0\n",
    "res_num = 0\n",
    "\n",
    "for i in range(2, max_num):\n",
    "    cache_table[i] = hailstone(i, cache_table)\n",
    "    if cache_table[i] > res_cnt:\n",
    "        res_cnt = cache_table[i]\n",
    "        res_num = i        \n",
    "print res_num"
   ]
  },
  {
   "cell_type": "markdown",
   "metadata": {},
   "source": [
    "프로젝트 오일러 문제 15"
   ]
  },
  {
   "cell_type": "code",
   "execution_count": 4,
   "metadata": {
    "collapsed": false
   },
   "outputs": [
    {
     "name": "stdout",
     "output_type": "stream",
     "text": [
      "137846528820\n"
     ]
    }
   ],
   "source": [
    "matrix = [[0 for col in range(22)] for row in range(22)]\n",
    "max_num = 21\n",
    "for i in range(1, max_num + 1):\n",
    "    for j in range(1, max_num + 1):\n",
    "        matrix[i][j] = matrix[i-1][j] + matrix[i][j-1]\n",
    "        if matrix[i][j] == 0:\n",
    "            matrix[i][j] = 1\n",
    "print matrix[max_num][max_num]"
   ]
  },
  {
   "cell_type": "markdown",
   "metadata": {},
   "source": [
    "##문제 14번"
   ]
  },
  {
   "cell_type": "code",
   "execution_count": 5,
   "metadata": {
    "collapsed": false
   },
   "outputs": [
    {
     "name": "stdout",
     "output_type": "stream",
     "text": [
      "readAndSave : http://www.django-rest-framework.org\n",
      "saveCountDict : http://www.django-rest-framework.org\n",
      "count_pure_word : http://www.django-rest-framework.org\n",
      "readAndSave : http://edition.cnn.com\n",
      "saveCountDict : http://edition.cnn.com\n",
      "count_pure_word : http://edition.cnn.com\n",
      "readAndSave : http://www.bbc.co.uk\n",
      "saveCountDict : http://www.bbc.co.uk\n",
      "count_pure_word : http://www.bbc.co.uk\n",
      "readAndSave : http://www.itnet.ca\n",
      "saveCountDict : http://www.itnet.ca\n",
      "count_pure_word : http://www.itnet.ca\n",
      "readAndSave : http://www.koreaherald.com\n",
      "saveCountDict : http://www.koreaherald.com\n",
      "count_pure_word : http://www.koreaherald.com\n",
      "readAndLoad : http://www.django-rest-framework.org\n",
      "readAndLoad : http://edition.cnn.com\n",
      "readAndLoad : http://www.bbc.co.uk\n",
      "readAndLoad : http://www.itnet.ca\n",
      "readAndLoad : http://www.koreaherald.com\n",
      "var : 63\n",
      "api : 25\n",
      "rest : 25\n"
     ]
    }
   ],
   "source": [
    "# -*- coding: utf-8 -*-\n",
    "import urllib2\n",
    "import string\n",
    "import pickle\n",
    "\n",
    "def tag_delete(string):\n",
    "    for i in range(0, string.count('<!--')):\n",
    "        if string.find(\"<!--\") != -1:\n",
    "            string = string.replace(string[string.find(\"<!--\"):string.find(\"-->\")+3:],\"\")\n",
    "    for i in range(0,string.count(\"<\")):\n",
    "        if string.find(\"<\") != -1:\n",
    "            string = string.replace(string[string.find(\"<\"):string.find(\">\")+1:],\"\")\n",
    "    \n",
    "    return string\n",
    "    \n",
    "def javascript_delete(string):\n",
    "    for i in range(0, string.count('<script')):\n",
    "        if string.find(\"<script\") != -1:\n",
    "            string = string.replace(string[string.find(\"<script\"):string.find(\"</script>\")+9:],\"\")\n",
    "    return string\n",
    "\n",
    "def stylesheet_delete(string):\n",
    "    for i in range(0, string.count('<style')):\n",
    "        if string.find(\"<style\") != -1:\n",
    "            string = string.replace(string[string.find(\"<style\"):string.find(\"</style>\")+8:],\"\")\n",
    "    return string\n",
    "\n",
    "def count_pure_word(url):\n",
    "    print \"count_pure_word : \" + url\n",
    "    source = urllib2.urlopen(url).read()\n",
    "\n",
    "    source = stylesheet_delete(source)\n",
    "    source = javascript_delete(source)\n",
    "    source = tag_delete(source)\n",
    "    \n",
    "    words = source.split()\n",
    "\n",
    "    my_str = \" \".join(words)\n",
    "    for s in string.punctuation:\n",
    "        my_str = my_str.replace(s, \"\")\n",
    "    my_str = my_str.lower()\n",
    "    \n",
    "    new_words = my_str.split()\n",
    "    new_dics = {}\n",
    "    for word in new_words:\n",
    "        if new_dics.has_key(word):\n",
    "            new_dics[word] += 1\n",
    "        else:\n",
    "            new_dics[word] = 1\n",
    "    \n",
    "    en_punctuaction = [ 'a', 'and', 'are', 'as', 'at', 'be', 'but', 'by', 'for', 'if', 'in', 'into', 'is', 'it', 'no', 'not', 'of', 'on', 'or', 's', 'such', 't', 'that', 'the', 'their', 'then', 'there', 'these', 'they', 'this', 'to', 'was', 'will', 'with']    \n",
    "    for en_punc in en_punctuaction:\n",
    "        new_dics.pop(en_punc, None)\n",
    "        \n",
    "    return new_dics\n",
    "    \n",
    "def readAndSave(url):\n",
    "    print \"readAndSave : \" + url\n",
    "    f_name = url.split(\"http://\")[1] + \".html\"\n",
    "    f = open(f_name, 'w')\n",
    "    s = urllib2.urlopen(url).read()\n",
    "    f.write(s)\n",
    "    f.close()\n",
    "\n",
    "def saveCountDict(url):\n",
    "    print \"saveCountDict : \" + url\n",
    "    f_name = url.split(\"http://\")[1] + \".words.frequency\"\n",
    "    f = open(f_name, 'w')\n",
    "    new_dicts = count_pure_word(url)\n",
    "    pickle.dump(new_dicts, f) \n",
    "    f.close() \n",
    "     \n",
    "def readAndLoad(url):\n",
    "    print \"readAndLoad : \" + url\n",
    "    f_name = url.split(\"http://\")[1] + \".words.frequency\"\n",
    "    f = open(f_name)\n",
    "    d = pickle.load(f)\n",
    "    return d\n",
    "\n",
    "def sumAndSort(urls):\n",
    "    sum_dict = {}\n",
    "    for url in urls:\n",
    "        d = readAndLoad(url)\n",
    "        for key in d.keys():\n",
    "            if sum_dict.has_key(key):\n",
    "                sum_dict[key] += d[key]\n",
    "            else:\n",
    "                sum_dict[key] = d[key]\n",
    "    l = sum_dict.items()\n",
    "    l.sort(cmp = lambda a,b : cmp(b[1], a[1]))\n",
    "    return l    \n",
    "        \n",
    "urls = [ \n",
    "\"http://www.django-rest-framework.org\", \n",
    "\"http://edition.cnn.com\",\n",
    "\"http://www.bbc.co.uk\",\n",
    "\"http://www.itnet.ca\",\n",
    "\"http://www.koreaherald.com\"\n",
    "]\n",
    "\n",
    "for url in urls:\n",
    "    readAndSave(url)\n",
    "    saveCountDict(url)\n",
    "    \n",
    "l = sumAndSort(urls)\n",
    "for i in range(0, 3):\n",
    "    print l[i][0] + \" : \" + str(l[i][1])"
   ]
  },
  {
   "cell_type": "code",
   "execution_count": null,
   "metadata": {
    "collapsed": true
   },
   "outputs": [],
   "source": []
  }
 ],
 "metadata": {
  "kernelspec": {
   "display_name": "Python 2",
   "language": "python",
   "name": "python2"
  },
  "language_info": {
   "codemirror_mode": {
    "name": "ipython",
    "version": 2
   },
   "file_extension": ".py",
   "mimetype": "text/x-python",
   "name": "python",
   "nbconvert_exporter": "python",
   "pygments_lexer": "ipython2",
   "version": "2.7.9"
  }
 },
 "nbformat": 4,
 "nbformat_minor": 0
}
