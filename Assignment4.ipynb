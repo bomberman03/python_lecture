{
 "cells": [
  {
   "cell_type": "markdown",
   "metadata": {},
   "source": [
    "1) 파일 s.txt을 읽어서 각 라인에 있는 첫 번째 단어(문자열) 자체들을 기준으로 라인별 정렬후 파일 s1.txt에 그 결과를 기록하는 코드를 작성하시오. 즉, 프로그램 수행 후 s1.txt에 있는 파일 내용은 다음과 같다."
   ]
  },
  {
   "cell_type": "code",
   "execution_count": 4,
   "metadata": {
    "collapsed": false
   },
   "outputs": [
    {
     "name": "stdout",
     "output_type": "stream",
     "text": [
      "cat dog\n",
      "dog pig\n",
      "ham bird\n",
      "pig ham\n"
     ]
    }
   ],
   "source": [
    "f = file('s.txt', 'r')\n",
    "s = f.read()\n",
    "f.close()\n",
    "\n",
    "s = s.split('\\n')\n",
    "s.sort()\n",
    "s = \"\\n\".join(s)\n",
    "\n",
    "f = file('s1.txt', 'w')\n",
    "f.write(s)\n",
    "f.close()\n",
    "\n",
    "print s"
   ]
  },
  {
   "cell_type": "code",
   "execution_count": 5,
   "metadata": {
    "collapsed": false
   },
   "outputs": [
    {
     "name": "stdout",
     "output_type": "stream",
     "text": [
      "ham bird\n",
      "cat dog\n",
      "pig ham\n",
      "dog pig\n"
     ]
    }
   ],
   "source": [
    "def my_compare(x, y):\n",
    "    return cmp(x.split()[1], y.split()[1])\n",
    "\n",
    "f = file('s.txt', 'r')\n",
    "s = f.read()\n",
    "f.close()\n",
    "\n",
    "s = s.split('\\n')\n",
    "s.sort(my_compare)\n",
    "s = \"\\n\".join(s)\n",
    "\n",
    "f = file('s1.txt', 'w')\n",
    "f.write(s)\n",
    "f.close()\n",
    "\n",
    "print s"
   ]
  },
  {
   "cell_type": "code",
   "execution_count": 15,
   "metadata": {
    "collapsed": false
   },
   "outputs": [],
   "source": [
    "f = file('s.txt', 'r')\n",
    "s = f.read()\n",
    "f.close()\n",
    "s = s.split()\n",
    "for i in range(2, len(s), 3):\n",
    "    s[i] = s[i] + \"\\n\"\n",
    "s = \" \".join(s)\n",
    "s = s.replace(\"\\n \", \"\\n\")\n",
    "f = file('s3.txt', 'w')\n",
    "f.write(s)\n",
    "f.close()\n",
    "\n",
    "print s"
   ]
  },
  {
   "cell_type": "code",
   "execution_count": 1,
   "metadata": {
    "collapsed": false
   },
   "outputs": [
    {
     "name": "stdout",
     "output_type": "stream",
     "text": [
      "Welcome to Out Service\n",
      "1. Sign Up\n",
      "2. Sign In\n",
      "3. Quit\n",
      "1\n",
      "this is register menu\n",
      "pathFinder\n",
      "Sorry, the entered ID is already used.\n",
      "Welcome to Out Service\n",
      "1. Sign Up\n",
      "2. Sign In\n",
      "3. Quit\n",
      "1\n",
      "this is register menu\n",
      "finder\n",
      "abcd\n",
      "정재현\n",
      "한국기술교육대\n",
      "Welcome to Out Service\n",
      "1. Sign Up\n",
      "2. Sign In\n",
      "3. Quit\n",
      "2\n",
      "this is login menu\n",
      "fin\n",
      "Sorry, you are not a registered member.\n",
      "finder\n",
      "abc\n",
      "Sorry, the entered password is not correct.\n",
      "abcd\n",
      "Hello[정재현]!\n",
      "Welcome to Out Service\n",
      "1. Sign Up\n",
      "2. Sign In\n",
      "3. Quit\n",
      "3\n"
     ]
    }
   ],
   "source": [
    "import sha\n",
    "\n",
    "def intro():\n",
    "    cmd = 0\n",
    "    while cmd != \"3\":\n",
    "        print \"Welcome to Out Service\"\n",
    "        print \"1. Sign Up\"\n",
    "        print \"2. Sign In\"\n",
    "        print \"3. Quit\"\n",
    "        cmd = raw_input()\n",
    "        if cmd == \"1\":\n",
    "            print \"this is register menu\"\n",
    "            register()\n",
    "        elif cmd == \"2\":\n",
    "            print \"this is login menu\"\n",
    "            login()\n",
    "    \n",
    "def parse_user(id, detail):\n",
    "    user = {}\n",
    "    user['id'] = id;\n",
    "    keys = [\"password\",\"name\",\"school\"]\n",
    "    detail = detail.replace(\"[\", \"\")\n",
    "    detail = detail.replace(\"]\", \"\")\n",
    "    detail = detail.split(\",\")\n",
    "    idx = 0\n",
    "    for key in keys:\n",
    "        user[key] = detail[idx]\n",
    "        idx = idx + 1\n",
    "    return user\n",
    "\n",
    "def check_dup(id):\n",
    "    f = file('access.txt')\n",
    "    s = f.read()\n",
    "    f.close()\n",
    "    s = s.split(\"\\n\")\n",
    "    usr = None\n",
    "    for u in s:\n",
    "        u = u.split(\":\")\n",
    "        if u[0] == id:\n",
    "            usr = parse_user(u[0], u[1])\n",
    "            break\n",
    "    return usr\n",
    "\n",
    "def register():\n",
    "    id = raw_input()\n",
    "    usr = check_dup(id)\n",
    "    if usr is not None:\n",
    "        print \"Sorry, the entered ID is already used.\"\n",
    "    else:\n",
    "        password = raw_input()\n",
    "        password = sha.new(password).hexdigest()\n",
    "        name = raw_input()\n",
    "        school = raw_input()\n",
    "        s = id + \":\" + \"[\" + password + \"],\" + \"[\" + name + \"],\" + \"[\" + school + \"]\\n\"\n",
    "        f = file('access.txt','a')\n",
    "        f.write(s)\n",
    "        f.close()\n",
    "\n",
    "def login():\n",
    "    id = raw_input()\n",
    "    usr = check_dup(id)\n",
    "    while usr is None:\n",
    "        print \"Sorry, you are not a registered member.\"\n",
    "        id = raw_input()\n",
    "        usr = check_dup(id)\n",
    "\n",
    "    password = raw_input()\n",
    "    password = sha.new(password).hexdigest()\n",
    "    while usr['password'] != password:\n",
    "        print \"Sorry, the entered password is not correct.\"\n",
    "        password = raw_input()\n",
    "        password = sha.new(password).hexdigest()\n",
    "\n",
    "    print \"Hello\" + \"[\" + usr['name'].decode('cp949') + \"]!\"\n",
    "\n",
    "intro()"
   ]
  },
  {
   "cell_type": "code",
   "execution_count": 24,
   "metadata": {
    "collapsed": false
   },
   "outputs": [
    {
     "name": "stdout",
     "output_type": "stream",
     "text": [
      "[0.0, 0.1, 0.2, 0.3, 0.4, 0.5]\n",
      "[1.0, 1.1, 1.2, 1.3, 1.4, 1.5, 1.6, 1.7, 1.8, 1.9]\n",
      "[2.2, 2.7, 3.2, 3.7]\n"
     ]
    }
   ],
   "source": [
    "import math\n",
    "def frange(*args):\n",
    "    res_list = []\n",
    "    \n",
    "    l = len(args)\n",
    "    \n",
    "    start = 0.0\n",
    "    stop = 0.0\n",
    "    step = 0.1\n",
    "    \n",
    "    if l == 1:\n",
    "        stop = args[0]\n",
    "    elif l == 2:\n",
    "        start = args[0]\n",
    "        stop = args[1]\n",
    "    elif l == 3:\n",
    "        start = args[0]\n",
    "        stop = args[1]\n",
    "        step = args[2]\n",
    "        \n",
    "    round_len = 1\n",
    "\n",
    "    if '.' in str(step):\n",
    "        tmp_len = len(str(step).split('.')[1])\n",
    "        if round_len < tmp_len:\n",
    "            round_len = tmp_len\n",
    "    if '.' in str(start):\n",
    "        tmp_len = len(str(start).split('.')[1])\n",
    "        if round_len < tmp_len:\n",
    "            round_len = tmp_len\n",
    "    if '.' in str(stop):\n",
    "        tmp_len = len(str(stop).split('.')[1])\n",
    "        if round_len < tmp_len:\n",
    "            round_len = tmp_len\n",
    "            \n",
    "    while start <= stop:\n",
    "        res_list.append(round(start, round_len))\n",
    "        start += step\n",
    "    return res_list\n",
    "\n",
    "print frange(0.5)\n",
    "print frange(1.0, 2.0)\n",
    "print frange(2.2, 4.0, 0.5)"
   ]
  },
  {
   "cell_type": "code",
   "execution_count": 25,
   "metadata": {
    "collapsed": false
   },
   "outputs": [
    {
     "name": "stdout",
     "output_type": "stream",
     "text": [
      "0\n",
      "3\n",
      "15\n",
      "5\n"
     ]
    }
   ],
   "source": [
    "def my_sum(*args):\n",
    "    return sum(args) \n",
    "print my_sum()\n",
    "print my_sum(1,2)\n",
    "print my_sum(1,2,3,4,5)\n",
    "print my_sum(1,5,7,2,-10)"
   ]
  },
  {
   "cell_type": "code",
   "execution_count": 33,
   "metadata": {
    "collapsed": false
   },
   "outputs": [
    {
     "name": "stdout",
     "output_type": "stream",
     "text": [
      "ASAP\n"
     ]
    }
   ],
   "source": [
    "def myInitial(s):\n",
    "    pass\n",
    "s = \"as soon as possible\"\n",
    "s = s.split()\n",
    "m = map(lambda x : x[0].upper(), s)\n",
    "print ''.join(m)"
   ]
  },
  {
   "cell_type": "code",
   "execution_count": 36,
   "metadata": {
    "collapsed": false
   },
   "outputs": [
    {
     "name": "stdout",
     "output_type": "stream",
     "text": [
      "93326215443944152681699238856266700490715968264381621468592963895217599993229915608941463976156518286253697920827223758251185210916864000000000000000000000000\n"
     ]
    }
   ],
   "source": [
    "def myfact(n):\n",
    "    if n <= 1:\n",
    "        return 1\n",
    "    else:\n",
    "        return n * myfact(n-1)\n",
    "print myfact(100)        "
   ]
  },
  {
   "cell_type": "code",
   "execution_count": null,
   "metadata": {
    "collapsed": true
   },
   "outputs": [],
   "source": []
  }
 ],
 "metadata": {
  "kernelspec": {
   "display_name": "Python 2",
   "language": "python",
   "name": "python2"
  },
  "language_info": {
   "codemirror_mode": {
    "name": "ipython",
    "version": 2
   },
   "file_extension": ".py",
   "mimetype": "text/x-python",
   "name": "python",
   "nbconvert_exporter": "python",
   "pygments_lexer": "ipython2",
   "version": "2.7.9"
  }
 },
 "nbformat": 4,
 "nbformat_minor": 0
}
