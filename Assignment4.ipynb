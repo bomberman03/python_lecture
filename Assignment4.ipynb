{
 "cells": [
  {
   "cell_type": "markdown",
   "metadata": {},
   "source": [
    "1) 파일 s.txt을 읽어서 각 라인에 있는 첫 번째 단어(문자열) 자체들을 기준으로 라인별 정렬후 파일 s1.txt에 그 결과를 기록하는 코드를 작성하시오. 즉, 프로그램 수행 후 s1.txt에 있는 파일 내용은 다음과 같다."
   ]
  },
  {
   "cell_type": "code",
   "execution_count": 4,
   "metadata": {
    "collapsed": false
   },
   "outputs": [
    {
     "name": "stdout",
     "output_type": "stream",
     "text": [
      "cat dog\n",
      "dog pig\n",
      "ham bird\n",
      "pig ham\n"
     ]
    }
   ],
   "source": [
    "f = file('s.txt', 'r')\n",
    "s = f.read()\n",
    "f.close()\n",
    "\n",
    "s = s.split('\\n')\n",
    "s.sort()\n",
    "s = \"\\n\".join(s)\n",
    "\n",
    "f = file('s1.txt', 'w')\n",
    "f.write(s)\n",
    "f.close()\n",
    "\n",
    "print s"
   ]
  },
  {
   "cell_type": "code",
   "execution_count": 5,
   "metadata": {
    "collapsed": false
   },
   "outputs": [
    {
     "name": "stdout",
     "output_type": "stream",
     "text": [
      "ham bird\n",
      "cat dog\n",
      "pig ham\n",
      "dog pig\n"
     ]
    }
   ],
   "source": [
    "def my_compare(x, y):\n",
    "    return cmp(x.split()[1], y.split()[1])\n",
    "\n",
    "f = file('s.txt', 'r')\n",
    "s = f.read()\n",
    "f.close()\n",
    "\n",
    "s = s.split('\\n')\n",
    "s.sort(my_compare)\n",
    "s = \"\\n\".join(s)\n",
    "\n",
    "f = file('s1.txt', 'w')\n",
    "f.write(s)\n",
    "f.close()\n",
    "\n",
    "print s"
   ]
  },
  {
   "cell_type": "code",
   "execution_count": 15,
   "metadata": {
    "collapsed": false
   },
   "outputs": [],
   "source": [
    "f = file('s.txt', 'r')\n",
    "s = f.read()\n",
    "f.close()\n",
    "s = s.split()\n",
    "for i in range(2, len(s), 3):\n",
    "    s[i] = s[i] + \"\\n\"\n",
    "s = \" \".join(s)\n",
    "s = s.replace(\"\\n \", \"\\n\")\n",
    "f = file('s3.txt', 'w')\n",
    "f.write(s)\n",
    "f.close()\n",
    "\n",
    "print s"
   ]
  },
  {
   "cell_type": "code",
   "execution_count": 1,
   "metadata": {
    "collapsed": false
   },
   "outputs": [
    {
     "name": "stdout",
     "output_type": "stream",
     "text": [
      "Welcome to Out Service\n",
      "1. Sign Up\n",
      "2. Sign In\n",
      "3. Quit\n",
      "1\n",
      "this is register menu\n",
      "pathFinder\n",
      "Sorry, the entered ID is already used.\n",
      "Welcome to Out Service\n",
      "1. Sign Up\n",
      "2. Sign In\n",
      "3. Quit\n",
      "1\n",
      "this is register menu\n",
      "finder\n",
      "abcd\n",
      "정재현\n",
      "한국기술교육대\n",
      "Welcome to Out Service\n",
      "1. Sign Up\n",
      "2. Sign In\n",
      "3. Quit\n",
      "2\n",
      "this is login menu\n",
      "fin\n",
      "Sorry, you are not a registered member.\n",
      "finder\n",
      "abc\n",
      "Sorry, the entered password is not correct.\n",
      "abcd\n",
      "Hello[정재현]!\n",
      "Welcome to Out Service\n",
      "1. Sign Up\n",
      "2. Sign In\n",
      "3. Quit\n",
      "3\n"
     ]
    }
   ],
   "source": [
    "import sha\n",
    "\n",
    "def intro():\n",
    "    cmd = 0\n",
    "    while cmd != \"3\":\n",
    "        print \"Welcome to Out Service\"\n",
    "        print \"1. Sign Up\"\n",
    "        print \"2. Sign In\"\n",
    "        print \"3. Quit\"\n",
    "        cmd = raw_input()\n",
    "        if cmd == \"1\":\n",
    "            print \"this is register menu\"\n",
    "            register()\n",
    "        elif cmd == \"2\":\n",
    "            print \"this is login menu\"\n",
    "            login()\n",
    "    \n",
    "def parse_user(id, detail):\n",
    "    user = {}\n",
    "    user['id'] = id;\n",
    "    keys = [\"password\",\"name\",\"school\"]\n",
    "    detail = detail.replace(\"[\", \"\")\n",
    "    detail = detail.replace(\"]\", \"\")\n",
    "    detail = detail.split(\",\")\n",
    "    idx = 0\n",
    "    for key in keys:\n",
    "        user[key] = detail[idx]\n",
    "        idx = idx + 1\n",
    "    return user\n",
    "\n",
    "def check_dup(id):\n",
    "    f = file('access.txt')\n",
    "    s = f.read()\n",
    "    f.close()\n",
    "    s = s.split(\"\\n\")\n",
    "    usr = None\n",
    "    for u in s:\n",
    "        u = u.split(\":\")\n",
    "        if u[0] == id:\n",
    "            usr = parse_user(u[0], u[1])\n",
    "            break\n",
    "    return usr\n",
    "\n",
    "def register():\n",
    "    id = raw_input()\n",
    "    usr = check_dup(id)\n",
    "    if usr is not None:\n",
    "        print \"Sorry, the entered ID is already used.\"\n",
    "    else:\n",
    "        password = raw_input()\n",
    "        password = sha.new(password).hexdigest()\n",
    "        name = raw_input()\n",
    "        school = raw_input()\n",
    "        s = id + \":\" + \"[\" + password + \"],\" + \"[\" + name + \"],\" + \"[\" + school + \"]\\n\"\n",
    "        f = file('access.txt','a')\n",
    "        f.write(s)\n",
    "        f.close()\n",
    "\n",
    "def login():\n",
    "    id = raw_input()\n",
    "    usr = check_dup(id)\n",
    "    while usr is None:\n",
    "        print \"Sorry, you are not a registered member.\"\n",
    "        id = raw_input()\n",
    "        usr = check_dup(id)\n",
    "\n",
    "    password = raw_input()\n",
    "    password = sha.new(password).hexdigest()\n",
    "    while usr['password'] != password:\n",
    "        print \"Sorry, the entered password is not correct.\"\n",
    "        password = raw_input()\n",
    "        password = sha.new(password).hexdigest()\n",
    "\n",
    "    print \"Hello\" + \"[\" + usr['name'].decode('cp949') + \"]!\"\n",
    "\n",
    "intro()"
   ]
  },
  {
   "cell_type": "code",
   "execution_count": 24,
   "metadata": {
    "collapsed": false
   },
   "outputs": [
    {
     "name": "stdout",
     "output_type": "stream",
     "text": [
      "[0.0, 0.1, 0.2, 0.3, 0.4, 0.5]\n",
      "[1.0, 1.1, 1.2, 1.3, 1.4, 1.5, 1.6, 1.7, 1.8, 1.9]\n",
      "[2.2, 2.7, 3.2, 3.7]\n"
     ]
    }
   ],
   "source": [
    "import math\n",
    "def frange(*args):\n",
    "    res_list = []\n",
    "    \n",
    "    l = len(args)\n",
    "    \n",
    "    start = 0.0\n",
    "    stop = 0.0\n",
    "    step = 0.1\n",
    "    \n",
    "    if l == 1:\n",
    "        stop = args[0]\n",
    "    elif l == 2:\n",
    "        start = args[0]\n",
    "        stop = args[1]\n",
    "    elif l == 3:\n",
    "        start = args[0]\n",
    "        stop = args[1]\n",
    "        step = args[2]\n",
    "        \n",
    "    round_len = 1\n",
    "\n",
    "    if '.' in str(step):\n",
    "        tmp_len = len(str(step).split('.')[1])\n",
    "        if round_len < tmp_len:\n",
    "            round_len = tmp_len\n",
    "    if '.' in str(start):\n",
    "        tmp_len = len(str(start).split('.')[1])\n",
    "        if round_len < tmp_len:\n",
    "            round_len = tmp_len\n",
    "    if '.' in str(stop):\n",
    "        tmp_len = len(str(stop).split('.')[1])\n",
    "        if round_len < tmp_len:\n",
    "            round_len = tmp_len\n",
    "            \n",
    "    while start <= stop:\n",
    "        res_list.append(round(start, round_len))\n",
    "        start += step\n",
    "    return res_list\n",
    "\n",
    "print frange(0.5)\n",
    "print frange(1.0, 2.0)\n",
    "print frange(2.2, 4.0, 0.5)"
   ]
  },
  {
   "cell_type": "code",
   "execution_count": 25,
   "metadata": {
    "collapsed": false
   },
   "outputs": [
    {
     "name": "stdout",
     "output_type": "stream",
     "text": [
      "0\n",
      "3\n",
      "15\n",
      "5\n"
     ]
    }
   ],
   "source": [
    "def my_sum(*args):\n",
    "    return sum(args) \n",
    "print my_sum()\n",
    "print my_sum(1,2)\n",
    "print my_sum(1,2,3,4,5)\n",
    "print my_sum(1,5,7,2,-10)"
   ]
  },
  {
   "cell_type": "code",
   "execution_count": 33,
   "metadata": {
    "collapsed": false
   },
   "outputs": [
    {
     "name": "stdout",
     "output_type": "stream",
     "text": [
      "ASAP\n"
     ]
    }
   ],
   "source": [
    "def myInitial(s):\n",
    "    pass\n",
    "s = \"as soon as possible\"\n",
    "s = s.split()\n",
    "m = map(lambda x : x[0].upper(), s)\n",
    "print ''.join(m)"
   ]
  },
  {
   "cell_type": "code",
   "execution_count": 36,
   "metadata": {
    "collapsed": false
   },
   "outputs": [
    {
     "name": "stdout",
     "output_type": "stream",
     "text": [
      "93326215443944152681699238856266700490715968264381621468592963895217599993229915608941463976156518286253697920827223758251185210916864000000000000000000000000\n"
     ]
    }
   ],
   "source": [
    "def myfact(n):\n",
    "    if n <= 1:\n",
    "        return 1\n",
    "    else:\n",
    "        return n * myfact(n-1)\n",
    "print myfact(100)        "
   ]
  },
  {
   "cell_type": "code",
   "execution_count": 1,
   "metadata": {
    "collapsed": false
   },
   "outputs": [
    {
     "name": "stdout",
     "output_type": "stream",
     "text": [
      "142913828922\n"
     ]
    }
   ],
   "source": [
    "def eratos_arr(size):\n",
    "    eratos = [True] * (size + 1)\n",
    "    for i in range(2, int(size / 2)):\n",
    "        if eratos[i] is False:\n",
    "            continue\n",
    "        mul = 2\n",
    "        num = i * mul\n",
    "        while num <= size:\n",
    "            eratos[num] = False\n",
    "            mul = mul + 1\n",
    "            num = i * mul\n",
    "    return eratos\n",
    "\n",
    "size = 2000000\n",
    "prime_sum = 0\n",
    "eratos = eratos_arr(size)\n",
    "for i in range(2, size+1):\n",
    "    if eratos[i]:\n",
    "        prime_sum += i\n",
    "print prime_sum"
   ]
  },
  {
   "cell_type": "code",
   "execution_count": 2,
   "metadata": {
    "collapsed": false
   },
   "outputs": [
    {
     "name": "stdout",
     "output_type": "stream",
     "text": [
      "70600674\n"
     ]
    }
   ],
   "source": [
    "input_str = \"\"\"08 02 22 97 38 15 00 40 00 75 04 05 07 78 52 12 50 77 91 08\n",
    "49 49 99 40 17 81 18 57 60 87 17 40 98 43 69 48 04 56 62 00\n",
    "81 49 31 73 55 79 14 29 93 71 40 67 53 88 30 03 49 13 36 65\n",
    "52 70 95 23 04 60 11 42 69 24 68 56 01 32 56 71 37 02 36 91\n",
    "22 31 16 71 51 67 63 89 41 92 36 54 22 40 40 28 66 33 13 80\n",
    "24 47 32 60 99 03 45 02 44 75 33 53 78 36 84 20 35 17 12 50\n",
    "32 98 81 28 64 23 67 10 26 38 40 67 59 54 70 66 18 38 64 70\n",
    "67 26 20 68 02 62 12 20 95 63 94 39 63 08 40 91 66 49 94 21\n",
    "24 55 58 05 66 73 99 26 97 17 78 78 96 83 14 88 34 89 63 72\n",
    "21 36 23 09 75 00 76 44 20 45 35 14 00 61 33 97 34 31 33 95\n",
    "78 17 53 28 22 75 31 67 15 94 03 80 04 62 16 14 09 53 56 92\n",
    "16 39 05 42 96 35 31 47 55 58 88 24 00 17 54 24 36 29 85 57\n",
    "86 56 00 48 35 71 89 07 05 44 44 37 44 60 21 58 51 54 17 58\n",
    "19 80 81 68 05 94 47 69 28 73 92 13 86 52 17 77 04 89 55 40\n",
    "04 52 08 83 97 35 99 16 07 97 57 32 16 26 26 79 33 27 98 66\n",
    "88 36 68 87 57 62 20 72 03 46 33 67 46 55 12 32 63 93 53 69\n",
    "04 42 16 73 38 25 39 11 24 94 72 18 08 46 29 32 40 62 76 36\n",
    "20 69 36 41 72 30 23 88 34 62 99 69 82 67 59 85 74 04 36 16\n",
    "20 73 35 29 78 31 90 01 74 31 49 71 48 86 81 16 23 57 05 54\n",
    "01 70 54 71 83 51 54 69 16 92 33 48 61 43 52 01 89 19 67 48\"\"\"\n",
    "\n",
    "arr = input_str.split(\"\\n\")\n",
    "res_arr = []\n",
    "for ele in arr:\n",
    "    res_arr.append(ele.split())\n",
    "\n",
    "def sumHorizon(arr, i, j):\n",
    "    tmp_sum = 1\n",
    "    row = i\n",
    "    for col in range(j, j+4):\n",
    "        tmp_sum *= int(arr[row][col])\n",
    "    return tmp_sum\n",
    "\n",
    "def sumVertical(arr, i, j):\n",
    "    tmp_sum = 1\n",
    "    col = j\n",
    "    for row in range(i, i+4):\n",
    "        tmp_sum *= int(arr[row][col])\n",
    "    return tmp_sum\n",
    "\n",
    "def sumDiagonal(arr,  i, j):\n",
    "    tmp_sum = 1\n",
    "    col = j\n",
    "    for row in range(i, i+4):\n",
    "        tmp_sum *= int(arr[row][col])\n",
    "        col = col + 1       \n",
    "    return tmp_sum\n",
    "    \n",
    "def sumExDiagonal(arr, i, j):\n",
    "    tmp_sum = 1\n",
    "    col = j\n",
    "    for row in range(i, i+4):\n",
    "        tmp_sum *= int(arr[row][col])\n",
    "        col = col - 1       \n",
    "    return tmp_sum\n",
    "\n",
    "max_num = 0\n",
    "for i in range(0, len(res_arr)):\n",
    "    for j in range(0, len(res_arr[i])):\n",
    "        hori = 0\n",
    "        vert = 0\n",
    "        diago= 0\n",
    "        exdiago = 0\n",
    "        if j <= len(res_arr[i]) - 4:\n",
    "            hori = sumHorizon(res_arr, i, j)\n",
    "        if i <= len(res_arr) - 4:\n",
    "            vert = sumVertical(res_arr, i, j)\n",
    "        if j <= len(res_arr[i]) - 4 and i <= len(res_arr) - 4: \n",
    "            diago = sumDiagonal(res_arr, i, j)\n",
    "        if j >= 3 and i <= len(res_arr) - 4: \n",
    "            exdiago = sumExDiagonal(res_arr, i, j)\n",
    "        max_num = max(max_num, max(max(exdiago,diago), max(hori, vert)))\n",
    "\n",
    "print max_num"
   ]
  },
  {
   "cell_type": "code",
   "execution_count": null,
   "metadata": {
    "collapsed": true
   },
   "outputs": [],
   "source": []
  }
 ],
 "metadata": {
  "kernelspec": {
   "display_name": "Python 2",
   "language": "python",
   "name": "python2"
  },
  "language_info": {
   "codemirror_mode": {
    "name": "ipython",
    "version": 2
   },
   "file_extension": ".py",
   "mimetype": "text/x-python",
   "name": "python",
   "nbconvert_exporter": "python",
   "pygments_lexer": "ipython2",
   "version": "2.7.9"
  }
 },
 "nbformat": 4,
 "nbformat_minor": 0
}
