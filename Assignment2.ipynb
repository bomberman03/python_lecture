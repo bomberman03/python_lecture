{
 "cells": [
  {
   "cell_type": "markdown",
   "metadata": {},
   "source": [
    "##Assignment2"
   ]
  },
  {
   "cell_type": "markdown",
   "metadata": {},
   "source": [
    "다음 6 개의 Expression에 대해 Evaluation 결과 값을 출력하고, 해당 결과가 나온 이유에 대해 설명하시오"
   ]
  },
  {
   "cell_type": "code",
   "execution_count": 2,
   "metadata": {
    "collapsed": false
   },
   "outputs": [
    {
     "data": {
      "text/plain": [
       "4"
      ]
     },
     "execution_count": 2,
     "metadata": {},
     "output_type": "execute_result"
    }
   ],
   "source": [
    "1 and 2 and 3 and 4"
   ]
  },
  {
   "cell_type": "markdown",
   "metadata": {},
   "source": [
    "기본적으로 0이 아닌 정수는 모두 참이다.\n",
    "그런데 위의 표현은 모두 참일 경우에 참이 된다. \n",
    "그렇게 되면, 결과를 산출하기 위해서 1,2,3,4 모두를 고려해야 하며,\n",
    "그 마지막 고려된 값인 4가 결과로 출력된다."
   ]
  },
  {
   "cell_type": "code",
   "execution_count": 3,
   "metadata": {
    "collapsed": false
   },
   "outputs": [
    {
     "data": {
      "text/plain": [
       "1"
      ]
     },
     "execution_count": 3,
     "metadata": {},
     "output_type": "execute_result"
    }
   ],
   "source": [
    "1 or 2 or 3 or 4"
   ]
  },
  {
   "cell_type": "markdown",
   "metadata": {},
   "source": [
    "위의 표현은 4개의 조건 중 하나만 참이어도 참이된다.\n",
    "그런데 1을 고려할 때 이미 1이 참이 되므로, 뒤의 조건에 상관없이\n",
    "전체 결과는 참이 된다. 그러므로 마지막으로 고려된 숫자 1이 출력된다."
   ]
  },
  {
   "cell_type": "code",
   "execution_count": 8,
   "metadata": {
    "collapsed": false
   },
   "outputs": [
    {
     "data": {
      "text/plain": [
       "2"
      ]
     },
     "execution_count": 8,
     "metadata": {},
     "output_type": "execute_result"
    }
   ],
   "source": [
    "1 and 2 or 3 and 4"
   ]
  },
  {
   "cell_type": "markdown",
   "metadata": {},
   "source": [
    "두개의 and 연산에 대한 or 연산이다.\n",
    "or 연산은 둘 중 하나만 참이어도 참이 된다. 그러므로 먼저 고려된 조건이 참이면 나중의 조건은 고려하지 않아도 된다.\n",
    "1 과 2에 대한 and 연산은 두 조건 모두 무조건 확인해야 한다. \n",
    "이미 참이므로 or 이후의 연산은 할 필요가 없다.\n",
    "그러므로 마지막으로 고려된 숫자인 2가 출력된다."
   ]
  },
  {
   "cell_type": "code",
   "execution_count": 5,
   "metadata": {
    "collapsed": false
   },
   "outputs": [
    {
     "data": {
      "text/plain": [
       "2"
      ]
     },
     "execution_count": 5,
     "metadata": {},
     "output_type": "execute_result"
    }
   ],
   "source": [
    "(1 and 2) or (3 and 4)"
   ]
  },
  {
   "cell_type": "markdown",
   "metadata": {
    "collapsed": true
   },
   "source": [
    "괄호 연산을 먼저 처리해야한다 그러므로 전방의 and 연산을 실시한다 그렇게 되면 or 좌변은 2 가 된다 이 때 2는 이미 참이므로 or의 우변 연산을 할 필요가 없다 그러므로 최종적으로 고려된 값은 2이므로 2가 출력된다."
   ]
  },
  {
   "cell_type": "code",
   "execution_count": 1,
   "metadata": {
    "collapsed": false
   },
   "outputs": [
    {
     "data": {
      "text/plain": [
       "1"
      ]
     },
     "execution_count": 1,
     "metadata": {},
     "output_type": "execute_result"
    }
   ],
   "source": [
    " 1 or 2 and 3 or 4"
   ]
  },
  {
   "cell_type": "markdown",
   "metadata": {},
   "source": [
    "왼쪽에서 오른쪽으로 고려를 한다 이때 첫 or 연산 왼쪽의 1이 이미 참이므로 그 뒤의 고려는 하지 않는 다 그러므로 출력은 1이 된다."
   ]
  },
  {
   "cell_type": "code",
   "execution_count": 2,
   "metadata": {
    "collapsed": false
   },
   "outputs": [
    {
     "data": {
      "text/plain": [
       "3"
      ]
     },
     "execution_count": 2,
     "metadata": {},
     "output_type": "execute_result"
    }
   ],
   "source": [
    "(1 or 2) and (3 or 4)"
   ]
  },
  {
   "cell_type": "markdown",
   "metadata": {},
   "source": [
    "좌측 괄호 연산부터 실시한다 이 때의 값은 1이다 1 값이 이미 참이므로 출력은 1이다 그리고 and는 우변의 값에 대해서도 고려해야 하므로 우측 괄호 연산도 하게 되면 3이다. 3"
   ]
  },
  {
   "cell_type": "markdown",
   "metadata": {},
   "source": [
    "문제. 키보드로 정수값을 입력 받고 그 값이 양수인지 음수인지를 비트 연산자를 이용하여 판단하는 프로그램을 작성하시오."
   ]
  },
  {
   "cell_type": "code",
   "execution_count": 15,
   "metadata": {
    "collapsed": false
   },
   "outputs": [
    {
     "name": "stdout",
     "output_type": "stream",
     "text": [
      "Please Enter Number : 1000\n",
      "1024\n",
      "number is bigger than 0\n"
     ]
    }
   ],
   "source": [
    "num = int(raw_input(\"Please Enter Number : \"))\n",
    "print (1 << num.bit_length())\n",
    "flag = num & (1 << num.bit_length())\n",
    "if flag is 0:\n",
    "    print \"number is bigger than 0\"\n",
    "else:\n",
    "    print \"number is smaller than 0\""
   ]
  },
  {
   "cell_type": "markdown",
   "metadata": {},
   "source": [
    "문제. 경로에 해당하는 문자열 1개를 입력 받아 그 안에 디렉토리 경로명과 파일명을 분리하여 리스트로 반환하는 함수 div_path(s)를 작성하시오."
   ]
  },
  {
   "cell_type": "code",
   "execution_count": 21,
   "metadata": {
    "collapsed": false
   },
   "outputs": [
    {
     "name": "stdout",
     "output_type": "stream",
     "text": [
      "['/usr/local/bin', 'python']\n"
     ]
    }
   ],
   "source": [
    "def div_path(s):\n",
    "    res_list = []\n",
    "    cnt = 0\n",
    "    idx = cnt\n",
    "    for x in s:\n",
    "        if x is '/':\n",
    "            idx = cnt\n",
    "        cnt += 1\n",
    "    res_list.append(s[:idx])\n",
    "    res_list.append(s[idx+1:])\n",
    "    return res_list\n",
    "path = \"/usr/local/bin/python\"\n",
    "print div_path(path)"
   ]
  },
  {
   "cell_type": "markdown",
   "metadata": {},
   "source": [
    "두 개의 리스트를 인자로 받아서 그 두 개의 리스트에 대한 '합집합'을 반환하는 함수 list_union(lista, listb)를 작성하시오."
   ]
  },
  {
   "cell_type": "code",
   "execution_count": 23,
   "metadata": {
    "collapsed": false
   },
   "outputs": [
    {
     "name": "stdout",
     "output_type": "stream",
     "text": [
      "[1, 2, 3, 4]\n",
      "[-10, -5, -1, 0, 9, 100]\n",
      "[0, 1, 2]\n"
     ]
    }
   ],
   "source": [
    "def list_union(lista, listb):\n",
    "    for b in listb:\n",
    "        if b in lista:\n",
    "            continue\n",
    "        else:\n",
    "            lista.append(b)\n",
    "    lista.sort()\n",
    "    return lista\n",
    "print list_union([1,2,3],[1,2,4])\n",
    "print list_union([-10,-5,0,-1],[100,9,0,9])\n",
    "print list_union([0,1,2],[0,1,2])            "
   ]
  },
  {
   "cell_type": "markdown",
   "metadata": {},
   "source": [
    "앞에서부터 읽을 때나 뒤에서부터 읽을 때나 모양이 같은 수를 대칭수(palindrome)라고 부릅니다.\n",
    "\n",
    "두 자리 수를 곱해 만들 수 있는 대칭수 중 가장 큰 수는 9009 (= 91 × 99) 입니다.\n",
    "\n",
    "세 자리 수를 곱해 만들 수 있는 가장 큰 대칭수는 얼마입니까?"
   ]
  },
  {
   "cell_type": "code",
   "execution_count": 37,
   "metadata": {
    "collapsed": false
   },
   "outputs": [
    {
     "name": "stdout",
     "output_type": "stream",
     "text": [
      "906609\n"
     ]
    }
   ],
   "source": [
    "def isPalind(num):\n",
    "    num_len = len(num) - 1\n",
    "    end = int(num_len / 2)\n",
    "    for i in range(0, end + 1):\n",
    "        if num[i] is not num[(i+1)*(-1)]:\n",
    "            return False\n",
    "    return True\n",
    "max_palind = 0\n",
    "for i in range(100, 1000):\n",
    "    for j in range(100, 1000):\n",
    "        if isPalind(str(i*j)):\n",
    "            if i*j > max_palind:\n",
    "                max_palind = i*j\n",
    "print max_palind"
   ]
  },
  {
   "cell_type": "markdown",
   "metadata": {},
   "source": [
    "1 ~ 10 사이의 어떤 수로도 나누어 떨어지는 가장 작은 수는 2520입니다.\n",
    "\n",
    "그러면 1 ~ 20 사이의 어떤 수로도 나누어 떨어지는 가장 작은 수는 얼마입니까?"
   ]
  },
  {
   "cell_type": "code",
   "execution_count": 1,
   "metadata": {
    "collapsed": false
   },
   "outputs": [
    {
     "name": "stdout",
     "output_type": "stream",
     "text": [
      "232792560\n"
     ]
    }
   ],
   "source": [
    "res_list = []\n",
    "for i in range(0,20):\n",
    "    res_list.append(0)\n",
    "\n",
    "for i in range(1,21):\n",
    "    num = i\n",
    "    div = 2\n",
    "    cnt = 0\n",
    "    while num > 1:\n",
    "        if (num % div) is 0:\n",
    "            cnt += 1\n",
    "            num /= div\n",
    "            continue\n",
    "        else:\n",
    "            if res_list[div] < cnt:\n",
    "                res_list[div] = cnt\n",
    "            cnt = 0\n",
    "            div += 1\n",
    "    if res_list[div] < cnt:\n",
    "        res_list[div] = cnt\n",
    "\n",
    "div = 0\n",
    "res = 1\n",
    "for cnt in res_list:\n",
    "    if cnt > 0:\n",
    "        for i in range(0,cnt):\n",
    "            res *= div\n",
    "    div += 1\n",
    "print res"
   ]
  },
  {
   "cell_type": "markdown",
   "metadata": {},
   "source": [
    "1부터 10까지 자연수를 각각 제곱해 더하면 다음과 같습니다 (제곱의 합).\n",
    "\n",
    "12 + 22 + ... + 102 = 385\n",
    "1부터 10을 먼저 더한 다음에 그 결과를 제곱하면 다음과 같습니다 (합의 제곱).\n",
    "\n",
    "(1 + 2 + ... + 10)2 = 552 = 3025\n",
    "따라서 1부터 10까지 자연수에 대해 \"합의 제곱\"과 \"제곱의 합\" 의 차이는 3025 - 385 = 2640 이 됩니다.\n",
    "\n",
    "그러면 1부터 100까지 자연수에 대해 \"합의 제곱\"과 \"제곱의 합\"의 차이는 얼마입니까?"
   ]
  },
  {
   "cell_type": "code",
   "execution_count": 3,
   "metadata": {
    "collapsed": false
   },
   "outputs": [
    {
     "name": "stdout",
     "output_type": "stream",
     "text": [
      "25164150\n"
     ]
    }
   ],
   "source": [
    "pow_sum = 0\n",
    "num_sum = 0\n",
    "for i in range(1,101):\n",
    "    pow_sum += i*i\n",
    "    num_sum += i\n",
    "sum_pow = num_sum * num_sum\n",
    "print sum_pow - pow_sum"
   ]
  },
  {
   "cell_type": "markdown",
   "metadata": {},
   "source": [
    "웹 URL로 지정된 웹페이지를 문자열로 가져와 1) 모든 HTML 태그를 제외한 순수 텍스트 문자열만을 걸러내고, 2) 그 순수 텍스트 문자열 안에 존재하는 단어가 총 몇개인지 출력하는 프로그램을 작성하시오. "
   ]
  },
  {
   "cell_type": "code",
   "execution_count": 1,
   "metadata": {
    "collapsed": false
   },
   "outputs": [
    {
     "name": "stdout",
     "output_type": "stream",
     "text": [
      "[1] : 컴퓨터공학부\n",
      "[2] : //\n",
      "[3] : Schoolfun\n",
      "[4] : -\n",
      "[5] : Study\n",
      "[6] : and\n",
      "[7] : Fun\n",
      "[8] : --\n",
      "[9] : 로그인\n",
      "[10] : 로그인\n",
      "[11] : 아이디\n",
      "[12] : 비밀번호\n",
      "[13] : 로그인\n",
      "[14] : 유지\n",
      "[15] : 브라우저를\n",
      "[16] : 닫더라도\n",
      "[17] : 로그인이\n",
      "[18] : 계속\n",
      "[19] : 유지될\n",
      "[20] : 수\n",
      "[21] : 있습니다.\n",
      "[22] : 로그인\n",
      "[23] : 유지\n",
      "[24] : 기능을\n",
      "[25] : 사용할\n",
      "[26] : 경우\n",
      "[27] : 다음\n",
      "[28] : 접속부터는\n",
      "[29] : 로그인할\n",
      "[30] : 필요가\n",
      "[31] : 없습니다.\n",
      "[32] : 단,\n",
      "[33] : 게임방,\n",
      "[34] : 학교\n",
      "[35] : 등\n",
      "[36] : 공공장소에서\n",
      "[37] : 이용\n",
      "[38] : 시\n",
      "[39] : 개인정보가\n",
      "[40] : 유출될\n",
      "[41] : 수\n",
      "[42] : 있으니\n",
      "[43] : 꼭\n",
      "[44] : 로그아웃을\n",
      "[45] : 해주세요.\n",
      "[46] : 회원가입\n",
      "[47] : ID/PW\n",
      "[48] : 찾기\n",
      "[49] : IT\n",
      "[50] : 교육의\n",
      "[51] : 글로벌\n",
      "[52] : 메카!\n",
      "[53] : 한국기술교육대학교\n",
      "[54] : 컴퓨터공학부\n",
      "[55] : Close\n",
      "[56] : 소개\n",
      "[57] : 구성원소개\n",
      "[58] : 학사안내\n",
      "[59] : 입학\n",
      "[60] : 학부\n",
      "[61] : 대학원\n",
      "[62] : 학부광장\n",
      "[63] : 자료실\n",
      "[64] : 대학원\n",
      "[65] : 공학교육인증\n",
      "[66] : Registration\n",
      "[67] : 컴퓨터공학부\n",
      "[68] : School\n",
      "[69] : of\n",
      "[70] : Computer\n",
      "[71] : Science\n",
      "[72] : and\n",
      "[73] : Engineering\n",
      "[74] : IT\n",
      "[75] : 융합소프트웨어\n",
      "[76] : 인력양성사업\n",
      "[77] : CK\n",
      "[78] : (Creative\n",
      "[79] : Korea)-I\n",
      "[80] : 교육역량강화사업\n",
      "[81] : 온라인\n",
      "[82] : 컨텐츠\n",
      "[83] : Online\n",
      "[84] : Contents\n",
      "[85] : for\n",
      "[86] : Education\n",
      "[87] : Capability\n",
      "[88] : Empowerment\n",
      "[89] : IT\n",
      "[90] : 교육의\n",
      "[91] : 글로벌\n",
      "[92] : 메카\n",
      "[93] : 한국기술교육대학교\n",
      "[94] : 컴퓨터공학부\n",
      "[95] : 홈페이지에\n",
      "[96] : 오신\n",
      "[97] : 것을\n",
      "[98] : 환영합니다!\n",
      "[99] : IT\n",
      "[100] : 융합소프트웨어\n",
      "[101] : 인력양성사업\n",
      "[102] : 글로벌\n",
      "[103] : 수준의\n",
      "[104] : IT전문인력\n",
      "[105] : 양성\n",
      "[106] : IT융합분야에\n",
      "[107] : 대한\n",
      "[108] : 국제적인\n",
      "[109] : 경쟁력\n",
      "[110] : 고취\n",
      "[111] : 바로가기\n",
      "[112] : 교육역량강화사업\n",
      "[113] : 컨텐츠\n",
      "[114] : 교육역량강화사업\n",
      "[115] : 온라인\n",
      "[116] : 컨텐츠를\n",
      "[117] : 소개합니다.\n",
      "[118] : 바로가기\n",
      "[119] : 공지사항\n",
      "[120] : [특성화]\n",
      "[121] : 토익,\n",
      "[122] : 오픽\n",
      "[123] : 강좌\n",
      "[124] : 수요조사\n",
      "[125] : 공고\n",
      "[126] : 2015-10-06\n",
      "[127] : 16:41\n",
      "[128] : 16:41\n",
      "[129] : [특성화]\n",
      "[130] : IT융합\n",
      "[131] : 개도국\n",
      "[132] : 해외기술지원봉사\n",
      "[133] : 참가자\n",
      "[134] : 모집...\n",
      "[135] : 2015-10-05\n",
      "[136] : 16:38\n",
      "[137] : 16:38\n",
      "[138] : [특성화]\n",
      "[139] : 장비대여\n",
      "[140] : 안내\n",
      "[141] : 2015-10-05\n",
      "[142] : 15:28\n",
      "[143] : 15:28\n",
      "[144] : 제4회\n",
      "[145] : TOPCIT\n",
      "[146] : 정기평가\n",
      "[147] : 2015-10-05\n",
      "[148] : 14:56\n",
      "[149] : 14:56\n",
      "[150] : [특성화]\n",
      "[151] : 국제게임전시회\n",
      "[152] : G-star\n",
      "[153] : 2015\n",
      "[154] : 참관\n",
      "[155] : 안내\n",
      "[156] : 2015-10-05\n",
      "[157] : 11:51\n",
      "[158] : 11:51\n",
      "[159] : 자유게시판\n",
      "[160] : (주)\n",
      "[161] : 엔에스이\n",
      "[162] : 에서\n",
      "[163] : 개발자를\n",
      "[164] : 모집합니다.\n",
      "[165] : 2015-09-30\n",
      "[166] : 13:30\n",
      "[167] : 13:30\n",
      "[168] : 졸업작품\n",
      "[169] : 전시회\n",
      "[170] : 컴퓨터공학부\n",
      "[171] : 인기상\n",
      "[172] : 투표\n",
      "[173] : 이벤트\n",
      "[174] : 2015-09-25\n",
      "[175] : 01:21\n",
      "[176] : 01:21\n",
      "[177] : 삼성\n",
      "[178] : 대학생\n",
      "[179] : 프로그래밍\n",
      "[180] : 경진대회\n",
      "[181] : 2015-09-15\n",
      "[182] : 11:17\n",
      "[183] : 11:17\n",
      "[184] : 2015년\n",
      "[185] : 4차\n",
      "[186] : 모의토익\n",
      "[187] : 지원\n",
      "[188] : 2015-09-09\n",
      "[189] : 23:34\n",
      "[190] : 23:34\n",
      "[191] : 난\n",
      "[192] : 괜찮아,\n",
      "[193] : 돌아가면\n",
      "[194] : 되지~\n",
      "[195] : 2015-09-09\n",
      "[196] : 15:51\n",
      "[197] : 15:51\n",
      "[198] : 취업게시판\n",
      "[199] : [특성화]\n",
      "[200] : (주)KMW\n",
      "[201] : 인턴사원\n",
      "[202] : 모집공고\n",
      "[203] : 2015-09-23\n",
      "[204] : 14:31\n",
      "[205] : 14:31\n",
      "[206] : ㈜인젠트\n",
      "[207] : 기술연구소\n",
      "[208] : 전문연구요원\n",
      "[209] : 모집\n",
      "[210] : 2015-09-14\n",
      "[211] : 11:54\n",
      "[212] : 11:54\n",
      "[213] : 펜타인\n",
      "[214] : 2015년도\n",
      "[215] : 신입사원\n",
      "[216] : 채용공고\n",
      "[217] : 2015-09-03\n",
      "[218] : 16:16\n",
      "[219] : 16:16\n",
      "[220] : LIG인베니아\n",
      "[221] : (코스닥상장\n",
      "[222] : LIG그룹사\n",
      "[223] : 디스플레이장비전...\n",
      "[224] : 2015-09-03\n",
      "[225] : 14:01\n",
      "[226] : 14:01\n",
      "[227] : ㈜\n",
      "[228] : 한울\n",
      "[229] : 소프트웨어\n",
      "[230] : 개발자\n",
      "[231] : 2015-06-18\n",
      "[232] : 10:28\n",
      "[233] : 10:28\n",
      "[234] : VENTURESQUARE\n",
      "[235] : 걸스인텍\n",
      "[236] : 한국지부,\n",
      "[237] : 테크분야\n",
      "[238] : 여성\n",
      "[239] : 창업가를\n",
      "[240] : 위한\n",
      "[241] : 데모...\n",
      "[242] : 2015-10-08\n",
      "[243] : 10:15\n",
      "[244] : 10:15\n",
      "[245] : 스포카,\n",
      "[246] : 9일\n",
      "[247] : 한글날\n",
      "[248] : 기념해\n",
      "[249] : ‘스포카\n",
      "[250] : 한\n",
      "[251] : 산스’\n",
      "[252] : 서체\n",
      "[253] : 출...\n",
      "[254] : 2015-10-08\n",
      "[255] : 10:10\n",
      "[256] : 10:10\n",
      "[257] : 야놀자,\n",
      "[258] : 한글날\n",
      "[259] : 기념\n",
      "[260] : 야놀자\n",
      "[261] : 서체\n",
      "[262] : ‘야체’\n",
      "[263] : 무료\n",
      "[264] : 배포\n",
      "[265] : 2015-10-08\n",
      "[266] : 10:08\n",
      "[267] : 10:08\n",
      "[268] : P2P\n",
      "[269] : 대출\n",
      "[270] : 플랫폼\n",
      "[271] : 펀다,\n",
      "[272] : 업계\n",
      "[273] : 최초\n",
      "[274] : 리워드\n",
      "[275] : 카드\n",
      "[276] : 출시\n",
      "[277] : 2015-10-08\n",
      "[278] : 09:58\n",
      "[279] : 09:58\n",
      "[280] : 전문\n",
      "[281] : 레슨\n",
      "[282] : 매칭\n",
      "[283] : 서비스\n",
      "[284] : 숨고\n",
      "[285] : 서비스\n",
      "[286] : 정식\n",
      "[287] : 출시\n",
      "[288] : 2015-10-08\n",
      "[289] : 09:53\n",
      "[290] : 09:53\n",
      "[291] : 전자신문\n",
      "[292] : LG유플러스\n",
      "[293] : ‘2015\n",
      "[294] : 프레지던츠컵’\n",
      "[295] : 방송중계\n",
      "[296] : 서비스\n",
      "[297] : 제공\n",
      "[298] : 2015-10-07\n",
      "[299] : 19:12\n",
      "[300] : 19:12\n",
      "[301] : 아이폰6S발\n",
      "[302] : 스마트폰\n",
      "[303] : 가격\n",
      "[304] : 인하\n",
      "[305] : 현실화\n",
      "[306] : 2015-10-07\n",
      "[307] : 18:30\n",
      "[308] : 18:30\n",
      "[309] : 케이블TV,\n",
      "[310] : `N스크린\n",
      "[311] : 서비스`로\n",
      "[312] : 승부수···전용\n",
      "[313] : 앱\n",
      "[314] : 출시\n",
      "[315] : ...\n",
      "[316] : 2015-10-07\n",
      "[317] : 18:00\n",
      "[318] : 18:00\n",
      "[319] : [이슈분석]삼성전자\n",
      "[320] : IM부문\n",
      "[321] : 웃지\n",
      "[322] : 못했다···4분기도\n",
      "[323] : 녹...\n",
      "[324] : 2015-10-07\n",
      "[325] : 18:00\n",
      "[326] : 18:00\n",
      "[327] : 쏠리드\n",
      "[328] : 컨소시엄,\n",
      "[329] : 팬택\n",
      "[330] : 인수\n",
      "[331] : 9부능선\n",
      "[332] : 넘는다···8일\n",
      "[333] : 잔...\n",
      "[334] : 2015-10-07\n",
      "[335] : 18:00\n",
      "[336] : 18:00\n",
      "[337] : RE/CODE\n",
      "[338] : Robot\n",
      "[339] : Cars\n",
      "[340] : Will\n",
      "[341] : Let\n",
      "[342] : You\n",
      "[343] : Take\n",
      "[344] : the\n",
      "[345] : Wheel,\n",
      "[346] : Sometimes\n",
      "[347] : 2015-10-08\n",
      "[348] : 11:05\n",
      "[349] : 11:05\n",
      "[350] : Twitter\n",
      "[351] : Product\n",
      "[352] : Boss:\n",
      "[353] : More\n",
      "[354] : ‘Really\n",
      "[355] : Cool\n",
      "[356] : Ideas’...\n",
      "[357] : 2015-10-08\n",
      "[358] : 10:40\n",
      "[359] : 10:40\n",
      "[360] : Nissan\n",
      "[361] : Exec:\n",
      "[362] : Google\n",
      "[363] : and\n",
      "[364] : Uber\n",
      "[365] : Underestimate\n",
      "[366] : How...\n",
      "[367] : 2015-10-08\n",
      "[368] : 10:18\n",
      "[369] : 10:18\n",
      "[370] : Editing\n",
      "[371] : Tweets?\n",
      "[372] : Don’t\n",
      "[373] : Hold\n",
      "[374] : Your\n",
      "[375] : Breath,\n",
      "[376] : Kim\n",
      "[377] : Ka...\n",
      "[378] : 2015-10-08\n",
      "[379] : 10:00\n",
      "[380] : 10:00\n",
      "[381] : Apple’s\n",
      "[382] : Jony\n",
      "[383] : Ive\n",
      "[384] : Remembers\n",
      "[385] : Steve\n",
      "[386] : Jobs:\n",
      "[387] : ‘There\n",
      "[388] : ...\n",
      "[389] : 2015-10-08\n",
      "[390] : 09:07\n",
      "[391] : 09:07\n",
      "[392] : Back\n",
      "[393] : to\n",
      "[394] : Top\n",
      "[395] : Leading\n",
      "[396] : Together\n",
      "[397] : for\n",
      "[398] : Brighter\n",
      "[399] : Future\n",
      "[400] : --\n",
      "[401] : Quick\n",
      "[402] : Navigation\n",
      "[403] : 한국기술교육대학교\n",
      "[404] : 홈페이지\n",
      "[405] : 한국기술교육대학교\n",
      "[406] : WEBMAIL\n",
      "[407] : 한국기술교육대학교\n",
      "[408] : 온라인\n",
      "[409] : 평생교육원\n",
      "[410] : 교육역량강화사업\n",
      "[411] : 온라인\n",
      "[412] : 컨텐츠\n",
      "[413] : 컴퓨터공학부\n",
      "[414] : 포트폴리오\n",
      "[415] : --\n",
      "[416] : IT\n",
      "[417] : 융합소프트웨어\n",
      "[418] : 인력양성사업\n",
      "[419] : Campus\n",
      "[420] : Location\n",
      "[421] : Contact\n",
      "[422] : CSE\n",
      "[423] : 충청남도\n",
      "[424] : 천안시\n",
      "[425] : 동남구\n",
      "[426] : 병천면\n",
      "[427] : 충절로\n",
      "[428] : 1600\n",
      "[429] : 한국기술교육대학교\n",
      "[430] : 컴퓨터공학부\n",
      "[431] : 학과사무실\n",
      "[432] : TEL\n",
      "[433] : (041)\n",
      "[434] : 560\n",
      "[435] : 1460~1461\n",
      "[436] : FAX\n",
      "[437] : (041)\n",
      "[438] : 560\n",
      "[439] : 1462\n",
      "[440] : Facebook\n",
      "[441] : Twitter\n",
      "[442] : Google\n",
      "[443] : Plus\n",
      "[444] : Linkedin\n",
      "[445] : Youtube\n",
      "[446] : Flickr\n",
      "[447] : --\n",
      "[448] : (31253)\n",
      "[449] : 충청남도\n",
      "[450] : 천안시\n",
      "[451] : 동남구\n",
      "[452] : 병천면\n",
      "[453] : 충절로\n",
      "[454] : 1600\n",
      "[455] : (가전리,\n",
      "[456] : 한국기술교육대학교)\n",
      "[457] : 컴퓨터공학부\n",
      "[458] : Copyright\n",
      "[459] : ©\n",
      "[460] : 2015.\n",
      "[461] : All\n",
      "[462] : rights\n",
      "[463] : reserved\n",
      "Pure Word Count : 464\n"
     ]
    }
   ],
   "source": [
    "# -*- coding: utf-8 -*-\n",
    "import urllib2\n",
    "\n",
    "url = \"http://cse.kut.ac.kr\"\n",
    "http = urllib2.urlopen(url)\n",
    "src = http.read()\n",
    "\n",
    "temp_list = src.split('<')\n",
    "res_list = []\n",
    "\n",
    "for temp in temp_list:\n",
    "    if len(temp) > 0:\n",
    "        res_temp_list = temp.split('>')\n",
    "        if len(res_temp_list) > 1:\n",
    "            res = res_temp_list[1].strip()\n",
    "            if len(res) > 0:\n",
    "                for pure in res.split():\n",
    "                    res_list.append(pure)\n",
    "\n",
    "cnt = 1\n",
    "for res in res_list:\n",
    "    print \"[\" + str(cnt) + \"] : \" + res\n",
    "    cnt += 1\n",
    "\n",
    "print \"Pure Word Count : \" + str(cnt)"
   ]
  },
  {
   "cell_type": "markdown",
   "metadata": {},
   "source": [
    "고찰\n",
    "\n",
    "정말 문제 하나 하나 배운 내용들을 충분히 고민하고 복습할 수 있는 계기가 되었던것 같습니다. \n",
    "물론 쉽지 않았지만, 그래도 서로 힘을 모아 문제를 해결하려고 노력하였고, 이제는 정답을 맞추는 것 보다\n",
    "그 안에서 돌아가는 근본 원리를 이해하는 것에 더욱 큰 가치가 있다는 것을 느꼈습니다."
   ]
  }
 ],
 "metadata": {
  "kernelspec": {
   "display_name": "Python 2",
   "language": "python",
   "name": "python2"
  },
  "language_info": {
   "codemirror_mode": {
    "name": "ipython",
    "version": 2
   },
   "file_extension": ".py",
   "mimetype": "text/x-python",
   "name": "python",
   "nbconvert_exporter": "python",
   "pygments_lexer": "ipython2",
   "version": "2.7.9"
  }
 },
 "nbformat": 4,
 "nbformat_minor": 0
}
